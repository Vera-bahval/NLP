{
  "nbformat": 4,
  "nbformat_minor": 0,
  "metadata": {
    "colab": {
      "provenance": [],
      "gpuType": "T4"
    },
    "kernelspec": {
      "name": "python3",
      "display_name": "Python 3"
    },
    "language_info": {
      "name": "python"
    },
    "accelerator": "GPU",
    "widgets": {
      "application/vnd.jupyter.widget-state+json": {
        "ae80358a60854a96927c3b42024ab6be": {
          "model_module": "@jupyter-widgets/controls",
          "model_name": "HBoxModel",
          "model_module_version": "1.5.0",
          "state": {
            "_dom_classes": [],
            "_model_module": "@jupyter-widgets/controls",
            "_model_module_version": "1.5.0",
            "_model_name": "HBoxModel",
            "_view_count": null,
            "_view_module": "@jupyter-widgets/controls",
            "_view_module_version": "1.5.0",
            "_view_name": "HBoxView",
            "box_style": "",
            "children": [
              "IPY_MODEL_03fca74b05c3434eaa41a85ecfbdb3b3",
              "IPY_MODEL_2f92550b988542c1805dc7d5156a9e47",
              "IPY_MODEL_4c73b916b86843fcb8842085b90dbb8b"
            ],
            "layout": "IPY_MODEL_31c17a2d9ecd4a249b94e2e516c01a36"
          }
        },
        "03fca74b05c3434eaa41a85ecfbdb3b3": {
          "model_module": "@jupyter-widgets/controls",
          "model_name": "HTMLModel",
          "model_module_version": "1.5.0",
          "state": {
            "_dom_classes": [],
            "_model_module": "@jupyter-widgets/controls",
            "_model_module_version": "1.5.0",
            "_model_name": "HTMLModel",
            "_view_count": null,
            "_view_module": "@jupyter-widgets/controls",
            "_view_module_version": "1.5.0",
            "_view_name": "HTMLView",
            "description": "",
            "description_tooltip": null,
            "layout": "IPY_MODEL_8a5fc9653e5146778fbea1d254812dd2",
            "placeholder": "​",
            "style": "IPY_MODEL_726a8d52594740d4aea5b9c64719845f",
            "value": "Downloading data: 100%"
          }
        },
        "2f92550b988542c1805dc7d5156a9e47": {
          "model_module": "@jupyter-widgets/controls",
          "model_name": "FloatProgressModel",
          "model_module_version": "1.5.0",
          "state": {
            "_dom_classes": [],
            "_model_module": "@jupyter-widgets/controls",
            "_model_module_version": "1.5.0",
            "_model_name": "FloatProgressModel",
            "_view_count": null,
            "_view_module": "@jupyter-widgets/controls",
            "_view_module_version": "1.5.0",
            "_view_name": "ProgressView",
            "bar_style": "success",
            "description": "",
            "description_tooltip": null,
            "layout": "IPY_MODEL_da08c2aeb30244a085b2657b498b6544",
            "max": 808903,
            "min": 0,
            "orientation": "horizontal",
            "style": "IPY_MODEL_7c172091816c473580fd4fd7266e30d6",
            "value": 808903
          }
        },
        "4c73b916b86843fcb8842085b90dbb8b": {
          "model_module": "@jupyter-widgets/controls",
          "model_name": "HTMLModel",
          "model_module_version": "1.5.0",
          "state": {
            "_dom_classes": [],
            "_model_module": "@jupyter-widgets/controls",
            "_model_module_version": "1.5.0",
            "_model_name": "HTMLModel",
            "_view_count": null,
            "_view_module": "@jupyter-widgets/controls",
            "_view_module_version": "1.5.0",
            "_view_name": "HTMLView",
            "description": "",
            "description_tooltip": null,
            "layout": "IPY_MODEL_52a7a33f22254811b18bdb7b77994561",
            "placeholder": "​",
            "style": "IPY_MODEL_951c00f3af5e4664906ed019e1823686",
            "value": " 809k/809k [00:00&lt;00:00, 837kB/s]"
          }
        },
        "31c17a2d9ecd4a249b94e2e516c01a36": {
          "model_module": "@jupyter-widgets/base",
          "model_name": "LayoutModel",
          "model_module_version": "1.2.0",
          "state": {
            "_model_module": "@jupyter-widgets/base",
            "_model_module_version": "1.2.0",
            "_model_name": "LayoutModel",
            "_view_count": null,
            "_view_module": "@jupyter-widgets/base",
            "_view_module_version": "1.2.0",
            "_view_name": "LayoutView",
            "align_content": null,
            "align_items": null,
            "align_self": null,
            "border": null,
            "bottom": null,
            "display": null,
            "flex": null,
            "flex_flow": null,
            "grid_area": null,
            "grid_auto_columns": null,
            "grid_auto_flow": null,
            "grid_auto_rows": null,
            "grid_column": null,
            "grid_gap": null,
            "grid_row": null,
            "grid_template_areas": null,
            "grid_template_columns": null,
            "grid_template_rows": null,
            "height": null,
            "justify_content": null,
            "justify_items": null,
            "left": null,
            "margin": null,
            "max_height": null,
            "max_width": null,
            "min_height": null,
            "min_width": null,
            "object_fit": null,
            "object_position": null,
            "order": null,
            "overflow": null,
            "overflow_x": null,
            "overflow_y": null,
            "padding": null,
            "right": null,
            "top": null,
            "visibility": null,
            "width": null
          }
        },
        "8a5fc9653e5146778fbea1d254812dd2": {
          "model_module": "@jupyter-widgets/base",
          "model_name": "LayoutModel",
          "model_module_version": "1.2.0",
          "state": {
            "_model_module": "@jupyter-widgets/base",
            "_model_module_version": "1.2.0",
            "_model_name": "LayoutModel",
            "_view_count": null,
            "_view_module": "@jupyter-widgets/base",
            "_view_module_version": "1.2.0",
            "_view_name": "LayoutView",
            "align_content": null,
            "align_items": null,
            "align_self": null,
            "border": null,
            "bottom": null,
            "display": null,
            "flex": null,
            "flex_flow": null,
            "grid_area": null,
            "grid_auto_columns": null,
            "grid_auto_flow": null,
            "grid_auto_rows": null,
            "grid_column": null,
            "grid_gap": null,
            "grid_row": null,
            "grid_template_areas": null,
            "grid_template_columns": null,
            "grid_template_rows": null,
            "height": null,
            "justify_content": null,
            "justify_items": null,
            "left": null,
            "margin": null,
            "max_height": null,
            "max_width": null,
            "min_height": null,
            "min_width": null,
            "object_fit": null,
            "object_position": null,
            "order": null,
            "overflow": null,
            "overflow_x": null,
            "overflow_y": null,
            "padding": null,
            "right": null,
            "top": null,
            "visibility": null,
            "width": null
          }
        },
        "726a8d52594740d4aea5b9c64719845f": {
          "model_module": "@jupyter-widgets/controls",
          "model_name": "DescriptionStyleModel",
          "model_module_version": "1.5.0",
          "state": {
            "_model_module": "@jupyter-widgets/controls",
            "_model_module_version": "1.5.0",
            "_model_name": "DescriptionStyleModel",
            "_view_count": null,
            "_view_module": "@jupyter-widgets/base",
            "_view_module_version": "1.2.0",
            "_view_name": "StyleView",
            "description_width": ""
          }
        },
        "da08c2aeb30244a085b2657b498b6544": {
          "model_module": "@jupyter-widgets/base",
          "model_name": "LayoutModel",
          "model_module_version": "1.2.0",
          "state": {
            "_model_module": "@jupyter-widgets/base",
            "_model_module_version": "1.2.0",
            "_model_name": "LayoutModel",
            "_view_count": null,
            "_view_module": "@jupyter-widgets/base",
            "_view_module_version": "1.2.0",
            "_view_name": "LayoutView",
            "align_content": null,
            "align_items": null,
            "align_self": null,
            "border": null,
            "bottom": null,
            "display": null,
            "flex": null,
            "flex_flow": null,
            "grid_area": null,
            "grid_auto_columns": null,
            "grid_auto_flow": null,
            "grid_auto_rows": null,
            "grid_column": null,
            "grid_gap": null,
            "grid_row": null,
            "grid_template_areas": null,
            "grid_template_columns": null,
            "grid_template_rows": null,
            "height": null,
            "justify_content": null,
            "justify_items": null,
            "left": null,
            "margin": null,
            "max_height": null,
            "max_width": null,
            "min_height": null,
            "min_width": null,
            "object_fit": null,
            "object_position": null,
            "order": null,
            "overflow": null,
            "overflow_x": null,
            "overflow_y": null,
            "padding": null,
            "right": null,
            "top": null,
            "visibility": null,
            "width": null
          }
        },
        "7c172091816c473580fd4fd7266e30d6": {
          "model_module": "@jupyter-widgets/controls",
          "model_name": "ProgressStyleModel",
          "model_module_version": "1.5.0",
          "state": {
            "_model_module": "@jupyter-widgets/controls",
            "_model_module_version": "1.5.0",
            "_model_name": "ProgressStyleModel",
            "_view_count": null,
            "_view_module": "@jupyter-widgets/base",
            "_view_module_version": "1.2.0",
            "_view_name": "StyleView",
            "bar_color": null,
            "description_width": ""
          }
        },
        "52a7a33f22254811b18bdb7b77994561": {
          "model_module": "@jupyter-widgets/base",
          "model_name": "LayoutModel",
          "model_module_version": "1.2.0",
          "state": {
            "_model_module": "@jupyter-widgets/base",
            "_model_module_version": "1.2.0",
            "_model_name": "LayoutModel",
            "_view_count": null,
            "_view_module": "@jupyter-widgets/base",
            "_view_module_version": "1.2.0",
            "_view_name": "LayoutView",
            "align_content": null,
            "align_items": null,
            "align_self": null,
            "border": null,
            "bottom": null,
            "display": null,
            "flex": null,
            "flex_flow": null,
            "grid_area": null,
            "grid_auto_columns": null,
            "grid_auto_flow": null,
            "grid_auto_rows": null,
            "grid_column": null,
            "grid_gap": null,
            "grid_row": null,
            "grid_template_areas": null,
            "grid_template_columns": null,
            "grid_template_rows": null,
            "height": null,
            "justify_content": null,
            "justify_items": null,
            "left": null,
            "margin": null,
            "max_height": null,
            "max_width": null,
            "min_height": null,
            "min_width": null,
            "object_fit": null,
            "object_position": null,
            "order": null,
            "overflow": null,
            "overflow_x": null,
            "overflow_y": null,
            "padding": null,
            "right": null,
            "top": null,
            "visibility": null,
            "width": null
          }
        },
        "951c00f3af5e4664906ed019e1823686": {
          "model_module": "@jupyter-widgets/controls",
          "model_name": "DescriptionStyleModel",
          "model_module_version": "1.5.0",
          "state": {
            "_model_module": "@jupyter-widgets/controls",
            "_model_module_version": "1.5.0",
            "_model_name": "DescriptionStyleModel",
            "_view_count": null,
            "_view_module": "@jupyter-widgets/base",
            "_view_module_version": "1.2.0",
            "_view_name": "StyleView",
            "description_width": ""
          }
        },
        "7efc2de0691b4251bd52919df8a37ad3": {
          "model_module": "@jupyter-widgets/controls",
          "model_name": "HBoxModel",
          "model_module_version": "1.5.0",
          "state": {
            "_dom_classes": [],
            "_model_module": "@jupyter-widgets/controls",
            "_model_module_version": "1.5.0",
            "_model_name": "HBoxModel",
            "_view_count": null,
            "_view_module": "@jupyter-widgets/controls",
            "_view_module_version": "1.5.0",
            "_view_name": "HBoxView",
            "box_style": "",
            "children": [
              "IPY_MODEL_9c27a5d40c974a97aa12fe88c8337357",
              "IPY_MODEL_0aada163e94d40c49d86f2c05967cc98",
              "IPY_MODEL_d0ad505f0e2145ca9ac7841d20ca9672"
            ],
            "layout": "IPY_MODEL_2c57179a294942809fd4037b98a765f4"
          }
        },
        "9c27a5d40c974a97aa12fe88c8337357": {
          "model_module": "@jupyter-widgets/controls",
          "model_name": "HTMLModel",
          "model_module_version": "1.5.0",
          "state": {
            "_dom_classes": [],
            "_model_module": "@jupyter-widgets/controls",
            "_model_module_version": "1.5.0",
            "_model_name": "HTMLModel",
            "_view_count": null,
            "_view_module": "@jupyter-widgets/controls",
            "_view_module_version": "1.5.0",
            "_view_name": "HTMLView",
            "description": "",
            "description_tooltip": null,
            "layout": "IPY_MODEL_809971e0021f42b1beffaa5392af1060",
            "placeholder": "​",
            "style": "IPY_MODEL_f63ba02a21454616be557f5d51a8d16a",
            "value": "Downloading data: 100%"
          }
        },
        "0aada163e94d40c49d86f2c05967cc98": {
          "model_module": "@jupyter-widgets/controls",
          "model_name": "FloatProgressModel",
          "model_module_version": "1.5.0",
          "state": {
            "_dom_classes": [],
            "_model_module": "@jupyter-widgets/controls",
            "_model_module_version": "1.5.0",
            "_model_name": "FloatProgressModel",
            "_view_count": null,
            "_view_module": "@jupyter-widgets/controls",
            "_view_module_version": "1.5.0",
            "_view_name": "ProgressView",
            "bar_style": "success",
            "description": "",
            "description_tooltip": null,
            "layout": "IPY_MODEL_e0af0ed310a24b52a781be1d56fabef5",
            "max": 815819,
            "min": 0,
            "orientation": "horizontal",
            "style": "IPY_MODEL_3bcf1ca6081b4f02bdc922f81307460f",
            "value": 815819
          }
        },
        "d0ad505f0e2145ca9ac7841d20ca9672": {
          "model_module": "@jupyter-widgets/controls",
          "model_name": "HTMLModel",
          "model_module_version": "1.5.0",
          "state": {
            "_dom_classes": [],
            "_model_module": "@jupyter-widgets/controls",
            "_model_module_version": "1.5.0",
            "_model_name": "HTMLModel",
            "_view_count": null,
            "_view_module": "@jupyter-widgets/controls",
            "_view_module_version": "1.5.0",
            "_view_name": "HTMLView",
            "description": "",
            "description_tooltip": null,
            "layout": "IPY_MODEL_b1cb63a0290e454e8757afd0d0193577",
            "placeholder": "​",
            "style": "IPY_MODEL_678b1648e39d4460b406f9a3047b52ab",
            "value": " 816k/816k [00:00&lt;00:00, 1.05MB/s]"
          }
        },
        "2c57179a294942809fd4037b98a765f4": {
          "model_module": "@jupyter-widgets/base",
          "model_name": "LayoutModel",
          "model_module_version": "1.2.0",
          "state": {
            "_model_module": "@jupyter-widgets/base",
            "_model_module_version": "1.2.0",
            "_model_name": "LayoutModel",
            "_view_count": null,
            "_view_module": "@jupyter-widgets/base",
            "_view_module_version": "1.2.0",
            "_view_name": "LayoutView",
            "align_content": null,
            "align_items": null,
            "align_self": null,
            "border": null,
            "bottom": null,
            "display": null,
            "flex": null,
            "flex_flow": null,
            "grid_area": null,
            "grid_auto_columns": null,
            "grid_auto_flow": null,
            "grid_auto_rows": null,
            "grid_column": null,
            "grid_gap": null,
            "grid_row": null,
            "grid_template_areas": null,
            "grid_template_columns": null,
            "grid_template_rows": null,
            "height": null,
            "justify_content": null,
            "justify_items": null,
            "left": null,
            "margin": null,
            "max_height": null,
            "max_width": null,
            "min_height": null,
            "min_width": null,
            "object_fit": null,
            "object_position": null,
            "order": null,
            "overflow": null,
            "overflow_x": null,
            "overflow_y": null,
            "padding": null,
            "right": null,
            "top": null,
            "visibility": null,
            "width": null
          }
        },
        "809971e0021f42b1beffaa5392af1060": {
          "model_module": "@jupyter-widgets/base",
          "model_name": "LayoutModel",
          "model_module_version": "1.2.0",
          "state": {
            "_model_module": "@jupyter-widgets/base",
            "_model_module_version": "1.2.0",
            "_model_name": "LayoutModel",
            "_view_count": null,
            "_view_module": "@jupyter-widgets/base",
            "_view_module_version": "1.2.0",
            "_view_name": "LayoutView",
            "align_content": null,
            "align_items": null,
            "align_self": null,
            "border": null,
            "bottom": null,
            "display": null,
            "flex": null,
            "flex_flow": null,
            "grid_area": null,
            "grid_auto_columns": null,
            "grid_auto_flow": null,
            "grid_auto_rows": null,
            "grid_column": null,
            "grid_gap": null,
            "grid_row": null,
            "grid_template_areas": null,
            "grid_template_columns": null,
            "grid_template_rows": null,
            "height": null,
            "justify_content": null,
            "justify_items": null,
            "left": null,
            "margin": null,
            "max_height": null,
            "max_width": null,
            "min_height": null,
            "min_width": null,
            "object_fit": null,
            "object_position": null,
            "order": null,
            "overflow": null,
            "overflow_x": null,
            "overflow_y": null,
            "padding": null,
            "right": null,
            "top": null,
            "visibility": null,
            "width": null
          }
        },
        "f63ba02a21454616be557f5d51a8d16a": {
          "model_module": "@jupyter-widgets/controls",
          "model_name": "DescriptionStyleModel",
          "model_module_version": "1.5.0",
          "state": {
            "_model_module": "@jupyter-widgets/controls",
            "_model_module_version": "1.5.0",
            "_model_name": "DescriptionStyleModel",
            "_view_count": null,
            "_view_module": "@jupyter-widgets/base",
            "_view_module_version": "1.2.0",
            "_view_name": "StyleView",
            "description_width": ""
          }
        },
        "e0af0ed310a24b52a781be1d56fabef5": {
          "model_module": "@jupyter-widgets/base",
          "model_name": "LayoutModel",
          "model_module_version": "1.2.0",
          "state": {
            "_model_module": "@jupyter-widgets/base",
            "_model_module_version": "1.2.0",
            "_model_name": "LayoutModel",
            "_view_count": null,
            "_view_module": "@jupyter-widgets/base",
            "_view_module_version": "1.2.0",
            "_view_name": "LayoutView",
            "align_content": null,
            "align_items": null,
            "align_self": null,
            "border": null,
            "bottom": null,
            "display": null,
            "flex": null,
            "flex_flow": null,
            "grid_area": null,
            "grid_auto_columns": null,
            "grid_auto_flow": null,
            "grid_auto_rows": null,
            "grid_column": null,
            "grid_gap": null,
            "grid_row": null,
            "grid_template_areas": null,
            "grid_template_columns": null,
            "grid_template_rows": null,
            "height": null,
            "justify_content": null,
            "justify_items": null,
            "left": null,
            "margin": null,
            "max_height": null,
            "max_width": null,
            "min_height": null,
            "min_width": null,
            "object_fit": null,
            "object_position": null,
            "order": null,
            "overflow": null,
            "overflow_x": null,
            "overflow_y": null,
            "padding": null,
            "right": null,
            "top": null,
            "visibility": null,
            "width": null
          }
        },
        "3bcf1ca6081b4f02bdc922f81307460f": {
          "model_module": "@jupyter-widgets/controls",
          "model_name": "ProgressStyleModel",
          "model_module_version": "1.5.0",
          "state": {
            "_model_module": "@jupyter-widgets/controls",
            "_model_module_version": "1.5.0",
            "_model_name": "ProgressStyleModel",
            "_view_count": null,
            "_view_module": "@jupyter-widgets/base",
            "_view_module_version": "1.2.0",
            "_view_name": "StyleView",
            "bar_color": null,
            "description_width": ""
          }
        },
        "b1cb63a0290e454e8757afd0d0193577": {
          "model_module": "@jupyter-widgets/base",
          "model_name": "LayoutModel",
          "model_module_version": "1.2.0",
          "state": {
            "_model_module": "@jupyter-widgets/base",
            "_model_module_version": "1.2.0",
            "_model_name": "LayoutModel",
            "_view_count": null,
            "_view_module": "@jupyter-widgets/base",
            "_view_module_version": "1.2.0",
            "_view_name": "LayoutView",
            "align_content": null,
            "align_items": null,
            "align_self": null,
            "border": null,
            "bottom": null,
            "display": null,
            "flex": null,
            "flex_flow": null,
            "grid_area": null,
            "grid_auto_columns": null,
            "grid_auto_flow": null,
            "grid_auto_rows": null,
            "grid_column": null,
            "grid_gap": null,
            "grid_row": null,
            "grid_template_areas": null,
            "grid_template_columns": null,
            "grid_template_rows": null,
            "height": null,
            "justify_content": null,
            "justify_items": null,
            "left": null,
            "margin": null,
            "max_height": null,
            "max_width": null,
            "min_height": null,
            "min_width": null,
            "object_fit": null,
            "object_position": null,
            "order": null,
            "overflow": null,
            "overflow_x": null,
            "overflow_y": null,
            "padding": null,
            "right": null,
            "top": null,
            "visibility": null,
            "width": null
          }
        },
        "678b1648e39d4460b406f9a3047b52ab": {
          "model_module": "@jupyter-widgets/controls",
          "model_name": "DescriptionStyleModel",
          "model_module_version": "1.5.0",
          "state": {
            "_model_module": "@jupyter-widgets/controls",
            "_model_module_version": "1.5.0",
            "_model_name": "DescriptionStyleModel",
            "_view_count": null,
            "_view_module": "@jupyter-widgets/base",
            "_view_module_version": "1.2.0",
            "_view_name": "StyleView",
            "description_width": ""
          }
        },
        "6b06ed54508a4e2f9ee5bf7eb5422bee": {
          "model_module": "@jupyter-widgets/controls",
          "model_name": "HBoxModel",
          "model_module_version": "1.5.0",
          "state": {
            "_dom_classes": [],
            "_model_module": "@jupyter-widgets/controls",
            "_model_module_version": "1.5.0",
            "_model_name": "HBoxModel",
            "_view_count": null,
            "_view_module": "@jupyter-widgets/controls",
            "_view_module_version": "1.5.0",
            "_view_name": "HBoxView",
            "box_style": "",
            "children": [
              "IPY_MODEL_2141f230f30e4fec9a57e034e5d666e2",
              "IPY_MODEL_63ef01a5145048ee8eefc56215427ae5",
              "IPY_MODEL_fbe132f49ab84186a34ce889f2312472"
            ],
            "layout": "IPY_MODEL_bec097ea9a4d40eabbf0f5875ed4fd61"
          }
        },
        "2141f230f30e4fec9a57e034e5d666e2": {
          "model_module": "@jupyter-widgets/controls",
          "model_name": "HTMLModel",
          "model_module_version": "1.5.0",
          "state": {
            "_dom_classes": [],
            "_model_module": "@jupyter-widgets/controls",
            "_model_module_version": "1.5.0",
            "_model_name": "HTMLModel",
            "_view_count": null,
            "_view_module": "@jupyter-widgets/controls",
            "_view_module_version": "1.5.0",
            "_view_name": "HTMLView",
            "description": "",
            "description_tooltip": null,
            "layout": "IPY_MODEL_0ecf361f63094f0bb9a2015d6346e64e",
            "placeholder": "​",
            "style": "IPY_MODEL_dd207c6766754141bc9dda6b1e7d4b75",
            "value": "Downloading data: 100%"
          }
        },
        "63ef01a5145048ee8eefc56215427ae5": {
          "model_module": "@jupyter-widgets/controls",
          "model_name": "FloatProgressModel",
          "model_module_version": "1.5.0",
          "state": {
            "_dom_classes": [],
            "_model_module": "@jupyter-widgets/controls",
            "_model_module_version": "1.5.0",
            "_model_name": "FloatProgressModel",
            "_view_count": null,
            "_view_module": "@jupyter-widgets/controls",
            "_view_module_version": "1.5.0",
            "_view_name": "ProgressView",
            "bar_style": "success",
            "description": "",
            "description_tooltip": null,
            "layout": "IPY_MODEL_b3153c285f9845d08403baa88804eb4d",
            "max": 1625463,
            "min": 0,
            "orientation": "horizontal",
            "style": "IPY_MODEL_39e4ab3b3a034fe597df5ae1759a578a",
            "value": 1625463
          }
        },
        "fbe132f49ab84186a34ce889f2312472": {
          "model_module": "@jupyter-widgets/controls",
          "model_name": "HTMLModel",
          "model_module_version": "1.5.0",
          "state": {
            "_dom_classes": [],
            "_model_module": "@jupyter-widgets/controls",
            "_model_module_version": "1.5.0",
            "_model_name": "HTMLModel",
            "_view_count": null,
            "_view_module": "@jupyter-widgets/controls",
            "_view_module_version": "1.5.0",
            "_view_name": "HTMLView",
            "description": "",
            "description_tooltip": null,
            "layout": "IPY_MODEL_194cb75bea6b48e78bc5a088a251b254",
            "placeholder": "​",
            "style": "IPY_MODEL_690b8e0b23a14677bbdf2bcf1490fa64",
            "value": " 1.63M/1.63M [00:01&lt;00:00, 1.06MB/s]"
          }
        },
        "bec097ea9a4d40eabbf0f5875ed4fd61": {
          "model_module": "@jupyter-widgets/base",
          "model_name": "LayoutModel",
          "model_module_version": "1.2.0",
          "state": {
            "_model_module": "@jupyter-widgets/base",
            "_model_module_version": "1.2.0",
            "_model_name": "LayoutModel",
            "_view_count": null,
            "_view_module": "@jupyter-widgets/base",
            "_view_module_version": "1.2.0",
            "_view_name": "LayoutView",
            "align_content": null,
            "align_items": null,
            "align_self": null,
            "border": null,
            "bottom": null,
            "display": null,
            "flex": null,
            "flex_flow": null,
            "grid_area": null,
            "grid_auto_columns": null,
            "grid_auto_flow": null,
            "grid_auto_rows": null,
            "grid_column": null,
            "grid_gap": null,
            "grid_row": null,
            "grid_template_areas": null,
            "grid_template_columns": null,
            "grid_template_rows": null,
            "height": null,
            "justify_content": null,
            "justify_items": null,
            "left": null,
            "margin": null,
            "max_height": null,
            "max_width": null,
            "min_height": null,
            "min_width": null,
            "object_fit": null,
            "object_position": null,
            "order": null,
            "overflow": null,
            "overflow_x": null,
            "overflow_y": null,
            "padding": null,
            "right": null,
            "top": null,
            "visibility": null,
            "width": null
          }
        },
        "0ecf361f63094f0bb9a2015d6346e64e": {
          "model_module": "@jupyter-widgets/base",
          "model_name": "LayoutModel",
          "model_module_version": "1.2.0",
          "state": {
            "_model_module": "@jupyter-widgets/base",
            "_model_module_version": "1.2.0",
            "_model_name": "LayoutModel",
            "_view_count": null,
            "_view_module": "@jupyter-widgets/base",
            "_view_module_version": "1.2.0",
            "_view_name": "LayoutView",
            "align_content": null,
            "align_items": null,
            "align_self": null,
            "border": null,
            "bottom": null,
            "display": null,
            "flex": null,
            "flex_flow": null,
            "grid_area": null,
            "grid_auto_columns": null,
            "grid_auto_flow": null,
            "grid_auto_rows": null,
            "grid_column": null,
            "grid_gap": null,
            "grid_row": null,
            "grid_template_areas": null,
            "grid_template_columns": null,
            "grid_template_rows": null,
            "height": null,
            "justify_content": null,
            "justify_items": null,
            "left": null,
            "margin": null,
            "max_height": null,
            "max_width": null,
            "min_height": null,
            "min_width": null,
            "object_fit": null,
            "object_position": null,
            "order": null,
            "overflow": null,
            "overflow_x": null,
            "overflow_y": null,
            "padding": null,
            "right": null,
            "top": null,
            "visibility": null,
            "width": null
          }
        },
        "dd207c6766754141bc9dda6b1e7d4b75": {
          "model_module": "@jupyter-widgets/controls",
          "model_name": "DescriptionStyleModel",
          "model_module_version": "1.5.0",
          "state": {
            "_model_module": "@jupyter-widgets/controls",
            "_model_module_version": "1.5.0",
            "_model_name": "DescriptionStyleModel",
            "_view_count": null,
            "_view_module": "@jupyter-widgets/base",
            "_view_module_version": "1.2.0",
            "_view_name": "StyleView",
            "description_width": ""
          }
        },
        "b3153c285f9845d08403baa88804eb4d": {
          "model_module": "@jupyter-widgets/base",
          "model_name": "LayoutModel",
          "model_module_version": "1.2.0",
          "state": {
            "_model_module": "@jupyter-widgets/base",
            "_model_module_version": "1.2.0",
            "_model_name": "LayoutModel",
            "_view_count": null,
            "_view_module": "@jupyter-widgets/base",
            "_view_module_version": "1.2.0",
            "_view_name": "LayoutView",
            "align_content": null,
            "align_items": null,
            "align_self": null,
            "border": null,
            "bottom": null,
            "display": null,
            "flex": null,
            "flex_flow": null,
            "grid_area": null,
            "grid_auto_columns": null,
            "grid_auto_flow": null,
            "grid_auto_rows": null,
            "grid_column": null,
            "grid_gap": null,
            "grid_row": null,
            "grid_template_areas": null,
            "grid_template_columns": null,
            "grid_template_rows": null,
            "height": null,
            "justify_content": null,
            "justify_items": null,
            "left": null,
            "margin": null,
            "max_height": null,
            "max_width": null,
            "min_height": null,
            "min_width": null,
            "object_fit": null,
            "object_position": null,
            "order": null,
            "overflow": null,
            "overflow_x": null,
            "overflow_y": null,
            "padding": null,
            "right": null,
            "top": null,
            "visibility": null,
            "width": null
          }
        },
        "39e4ab3b3a034fe597df5ae1759a578a": {
          "model_module": "@jupyter-widgets/controls",
          "model_name": "ProgressStyleModel",
          "model_module_version": "1.5.0",
          "state": {
            "_model_module": "@jupyter-widgets/controls",
            "_model_module_version": "1.5.0",
            "_model_name": "ProgressStyleModel",
            "_view_count": null,
            "_view_module": "@jupyter-widgets/base",
            "_view_module_version": "1.2.0",
            "_view_name": "StyleView",
            "bar_color": null,
            "description_width": ""
          }
        },
        "194cb75bea6b48e78bc5a088a251b254": {
          "model_module": "@jupyter-widgets/base",
          "model_name": "LayoutModel",
          "model_module_version": "1.2.0",
          "state": {
            "_model_module": "@jupyter-widgets/base",
            "_model_module_version": "1.2.0",
            "_model_name": "LayoutModel",
            "_view_count": null,
            "_view_module": "@jupyter-widgets/base",
            "_view_module_version": "1.2.0",
            "_view_name": "LayoutView",
            "align_content": null,
            "align_items": null,
            "align_self": null,
            "border": null,
            "bottom": null,
            "display": null,
            "flex": null,
            "flex_flow": null,
            "grid_area": null,
            "grid_auto_columns": null,
            "grid_auto_flow": null,
            "grid_auto_rows": null,
            "grid_column": null,
            "grid_gap": null,
            "grid_row": null,
            "grid_template_areas": null,
            "grid_template_columns": null,
            "grid_template_rows": null,
            "height": null,
            "justify_content": null,
            "justify_items": null,
            "left": null,
            "margin": null,
            "max_height": null,
            "max_width": null,
            "min_height": null,
            "min_width": null,
            "object_fit": null,
            "object_position": null,
            "order": null,
            "overflow": null,
            "overflow_x": null,
            "overflow_y": null,
            "padding": null,
            "right": null,
            "top": null,
            "visibility": null,
            "width": null
          }
        },
        "690b8e0b23a14677bbdf2bcf1490fa64": {
          "model_module": "@jupyter-widgets/controls",
          "model_name": "DescriptionStyleModel",
          "model_module_version": "1.5.0",
          "state": {
            "_model_module": "@jupyter-widgets/controls",
            "_model_module_version": "1.5.0",
            "_model_name": "DescriptionStyleModel",
            "_view_count": null,
            "_view_module": "@jupyter-widgets/base",
            "_view_module_version": "1.2.0",
            "_view_name": "StyleView",
            "description_width": ""
          }
        },
        "61cdb2231c8a4fb7947ae994ec5c6cc0": {
          "model_module": "@jupyter-widgets/controls",
          "model_name": "HBoxModel",
          "model_module_version": "1.5.0",
          "state": {
            "_dom_classes": [],
            "_model_module": "@jupyter-widgets/controls",
            "_model_module_version": "1.5.0",
            "_model_name": "HBoxModel",
            "_view_count": null,
            "_view_module": "@jupyter-widgets/controls",
            "_view_module_version": "1.5.0",
            "_view_name": "HBoxView",
            "box_style": "",
            "children": [
              "IPY_MODEL_ab2937b8f26b4acd9b479afe2f003a50",
              "IPY_MODEL_5ad10fbea93a42fd936f311ce01fc115",
              "IPY_MODEL_5397503c8c534d98963bcfdfa5f1c029"
            ],
            "layout": "IPY_MODEL_68fc2537e6094e0a89404159ad8eb150"
          }
        },
        "ab2937b8f26b4acd9b479afe2f003a50": {
          "model_module": "@jupyter-widgets/controls",
          "model_name": "HTMLModel",
          "model_module_version": "1.5.0",
          "state": {
            "_dom_classes": [],
            "_model_module": "@jupyter-widgets/controls",
            "_model_module_version": "1.5.0",
            "_model_name": "HTMLModel",
            "_view_count": null,
            "_view_module": "@jupyter-widgets/controls",
            "_view_module_version": "1.5.0",
            "_view_name": "HTMLView",
            "description": "",
            "description_tooltip": null,
            "layout": "IPY_MODEL_983e59fdf2bb434eabca9f023d72b542",
            "placeholder": "​",
            "style": "IPY_MODEL_121aec5a41a843dcb0e99708b8486f6d",
            "value": "Generating validation split: 100%"
          }
        },
        "5ad10fbea93a42fd936f311ce01fc115": {
          "model_module": "@jupyter-widgets/controls",
          "model_name": "FloatProgressModel",
          "model_module_version": "1.5.0",
          "state": {
            "_dom_classes": [],
            "_model_module": "@jupyter-widgets/controls",
            "_model_module_version": "1.5.0",
            "_model_name": "FloatProgressModel",
            "_view_count": null,
            "_view_module": "@jupyter-widgets/controls",
            "_view_module_version": "1.5.0",
            "_view_name": "ProgressView",
            "bar_style": "success",
            "description": "",
            "description_tooltip": null,
            "layout": "IPY_MODEL_d194abfc95c14767a97a8b324c266d3f",
            "max": 10000,
            "min": 0,
            "orientation": "horizontal",
            "style": "IPY_MODEL_915a2b4afcc8423db23c79592e8b5586",
            "value": 10000
          }
        },
        "5397503c8c534d98963bcfdfa5f1c029": {
          "model_module": "@jupyter-widgets/controls",
          "model_name": "HTMLModel",
          "model_module_version": "1.5.0",
          "state": {
            "_dom_classes": [],
            "_model_module": "@jupyter-widgets/controls",
            "_model_module_version": "1.5.0",
            "_model_name": "HTMLModel",
            "_view_count": null,
            "_view_module": "@jupyter-widgets/controls",
            "_view_module_version": "1.5.0",
            "_view_name": "HTMLView",
            "description": "",
            "description_tooltip": null,
            "layout": "IPY_MODEL_a193a410782f4153892378b4f98c8f70",
            "placeholder": "​",
            "style": "IPY_MODEL_d026cfcee5994cebb8c1e493c8b69854",
            "value": " 10000/10000 [00:00&lt;00:00, 150242.47 examples/s]"
          }
        },
        "68fc2537e6094e0a89404159ad8eb150": {
          "model_module": "@jupyter-widgets/base",
          "model_name": "LayoutModel",
          "model_module_version": "1.2.0",
          "state": {
            "_model_module": "@jupyter-widgets/base",
            "_model_module_version": "1.2.0",
            "_model_name": "LayoutModel",
            "_view_count": null,
            "_view_module": "@jupyter-widgets/base",
            "_view_module_version": "1.2.0",
            "_view_name": "LayoutView",
            "align_content": null,
            "align_items": null,
            "align_self": null,
            "border": null,
            "bottom": null,
            "display": null,
            "flex": null,
            "flex_flow": null,
            "grid_area": null,
            "grid_auto_columns": null,
            "grid_auto_flow": null,
            "grid_auto_rows": null,
            "grid_column": null,
            "grid_gap": null,
            "grid_row": null,
            "grid_template_areas": null,
            "grid_template_columns": null,
            "grid_template_rows": null,
            "height": null,
            "justify_content": null,
            "justify_items": null,
            "left": null,
            "margin": null,
            "max_height": null,
            "max_width": null,
            "min_height": null,
            "min_width": null,
            "object_fit": null,
            "object_position": null,
            "order": null,
            "overflow": null,
            "overflow_x": null,
            "overflow_y": null,
            "padding": null,
            "right": null,
            "top": null,
            "visibility": null,
            "width": null
          }
        },
        "983e59fdf2bb434eabca9f023d72b542": {
          "model_module": "@jupyter-widgets/base",
          "model_name": "LayoutModel",
          "model_module_version": "1.2.0",
          "state": {
            "_model_module": "@jupyter-widgets/base",
            "_model_module_version": "1.2.0",
            "_model_name": "LayoutModel",
            "_view_count": null,
            "_view_module": "@jupyter-widgets/base",
            "_view_module_version": "1.2.0",
            "_view_name": "LayoutView",
            "align_content": null,
            "align_items": null,
            "align_self": null,
            "border": null,
            "bottom": null,
            "display": null,
            "flex": null,
            "flex_flow": null,
            "grid_area": null,
            "grid_auto_columns": null,
            "grid_auto_flow": null,
            "grid_auto_rows": null,
            "grid_column": null,
            "grid_gap": null,
            "grid_row": null,
            "grid_template_areas": null,
            "grid_template_columns": null,
            "grid_template_rows": null,
            "height": null,
            "justify_content": null,
            "justify_items": null,
            "left": null,
            "margin": null,
            "max_height": null,
            "max_width": null,
            "min_height": null,
            "min_width": null,
            "object_fit": null,
            "object_position": null,
            "order": null,
            "overflow": null,
            "overflow_x": null,
            "overflow_y": null,
            "padding": null,
            "right": null,
            "top": null,
            "visibility": null,
            "width": null
          }
        },
        "121aec5a41a843dcb0e99708b8486f6d": {
          "model_module": "@jupyter-widgets/controls",
          "model_name": "DescriptionStyleModel",
          "model_module_version": "1.5.0",
          "state": {
            "_model_module": "@jupyter-widgets/controls",
            "_model_module_version": "1.5.0",
            "_model_name": "DescriptionStyleModel",
            "_view_count": null,
            "_view_module": "@jupyter-widgets/base",
            "_view_module_version": "1.2.0",
            "_view_name": "StyleView",
            "description_width": ""
          }
        },
        "d194abfc95c14767a97a8b324c266d3f": {
          "model_module": "@jupyter-widgets/base",
          "model_name": "LayoutModel",
          "model_module_version": "1.2.0",
          "state": {
            "_model_module": "@jupyter-widgets/base",
            "_model_module_version": "1.2.0",
            "_model_name": "LayoutModel",
            "_view_count": null,
            "_view_module": "@jupyter-widgets/base",
            "_view_module_version": "1.2.0",
            "_view_name": "LayoutView",
            "align_content": null,
            "align_items": null,
            "align_self": null,
            "border": null,
            "bottom": null,
            "display": null,
            "flex": null,
            "flex_flow": null,
            "grid_area": null,
            "grid_auto_columns": null,
            "grid_auto_flow": null,
            "grid_auto_rows": null,
            "grid_column": null,
            "grid_gap": null,
            "grid_row": null,
            "grid_template_areas": null,
            "grid_template_columns": null,
            "grid_template_rows": null,
            "height": null,
            "justify_content": null,
            "justify_items": null,
            "left": null,
            "margin": null,
            "max_height": null,
            "max_width": null,
            "min_height": null,
            "min_width": null,
            "object_fit": null,
            "object_position": null,
            "order": null,
            "overflow": null,
            "overflow_x": null,
            "overflow_y": null,
            "padding": null,
            "right": null,
            "top": null,
            "visibility": null,
            "width": null
          }
        },
        "915a2b4afcc8423db23c79592e8b5586": {
          "model_module": "@jupyter-widgets/controls",
          "model_name": "ProgressStyleModel",
          "model_module_version": "1.5.0",
          "state": {
            "_model_module": "@jupyter-widgets/controls",
            "_model_module_version": "1.5.0",
            "_model_name": "ProgressStyleModel",
            "_view_count": null,
            "_view_module": "@jupyter-widgets/base",
            "_view_module_version": "1.2.0",
            "_view_name": "StyleView",
            "bar_color": null,
            "description_width": ""
          }
        },
        "a193a410782f4153892378b4f98c8f70": {
          "model_module": "@jupyter-widgets/base",
          "model_name": "LayoutModel",
          "model_module_version": "1.2.0",
          "state": {
            "_model_module": "@jupyter-widgets/base",
            "_model_module_version": "1.2.0",
            "_model_name": "LayoutModel",
            "_view_count": null,
            "_view_module": "@jupyter-widgets/base",
            "_view_module_version": "1.2.0",
            "_view_name": "LayoutView",
            "align_content": null,
            "align_items": null,
            "align_self": null,
            "border": null,
            "bottom": null,
            "display": null,
            "flex": null,
            "flex_flow": null,
            "grid_area": null,
            "grid_auto_columns": null,
            "grid_auto_flow": null,
            "grid_auto_rows": null,
            "grid_column": null,
            "grid_gap": null,
            "grid_row": null,
            "grid_template_areas": null,
            "grid_template_columns": null,
            "grid_template_rows": null,
            "height": null,
            "justify_content": null,
            "justify_items": null,
            "left": null,
            "margin": null,
            "max_height": null,
            "max_width": null,
            "min_height": null,
            "min_width": null,
            "object_fit": null,
            "object_position": null,
            "order": null,
            "overflow": null,
            "overflow_x": null,
            "overflow_y": null,
            "padding": null,
            "right": null,
            "top": null,
            "visibility": null,
            "width": null
          }
        },
        "d026cfcee5994cebb8c1e493c8b69854": {
          "model_module": "@jupyter-widgets/controls",
          "model_name": "DescriptionStyleModel",
          "model_module_version": "1.5.0",
          "state": {
            "_model_module": "@jupyter-widgets/controls",
            "_model_module_version": "1.5.0",
            "_model_name": "DescriptionStyleModel",
            "_view_count": null,
            "_view_module": "@jupyter-widgets/base",
            "_view_module_version": "1.2.0",
            "_view_name": "StyleView",
            "description_width": ""
          }
        },
        "e77cc47130f848df9b1d4e0f71646521": {
          "model_module": "@jupyter-widgets/controls",
          "model_name": "HBoxModel",
          "model_module_version": "1.5.0",
          "state": {
            "_dom_classes": [],
            "_model_module": "@jupyter-widgets/controls",
            "_model_module_version": "1.5.0",
            "_model_name": "HBoxModel",
            "_view_count": null,
            "_view_module": "@jupyter-widgets/controls",
            "_view_module_version": "1.5.0",
            "_view_name": "HBoxView",
            "box_style": "",
            "children": [
              "IPY_MODEL_c1cd7dcc84334989aad5c900ce700007",
              "IPY_MODEL_4d904cfcbd314b15a599d38652b1d9c3",
              "IPY_MODEL_0e6306d78da24d8ea21a5d801d73bf73"
            ],
            "layout": "IPY_MODEL_54c97138e33145c7825e58d5e72233da"
          }
        },
        "c1cd7dcc84334989aad5c900ce700007": {
          "model_module": "@jupyter-widgets/controls",
          "model_name": "HTMLModel",
          "model_module_version": "1.5.0",
          "state": {
            "_dom_classes": [],
            "_model_module": "@jupyter-widgets/controls",
            "_model_module_version": "1.5.0",
            "_model_name": "HTMLModel",
            "_view_count": null,
            "_view_module": "@jupyter-widgets/controls",
            "_view_module_version": "1.5.0",
            "_view_name": "HTMLView",
            "description": "",
            "description_tooltip": null,
            "layout": "IPY_MODEL_b07a53ccc56a42a995e994897dd89fa4",
            "placeholder": "​",
            "style": "IPY_MODEL_7d728a97bd314ebea31d9d5987f4b5a7",
            "value": "Generating test split: 100%"
          }
        },
        "4d904cfcbd314b15a599d38652b1d9c3": {
          "model_module": "@jupyter-widgets/controls",
          "model_name": "FloatProgressModel",
          "model_module_version": "1.5.0",
          "state": {
            "_dom_classes": [],
            "_model_module": "@jupyter-widgets/controls",
            "_model_module_version": "1.5.0",
            "_model_name": "FloatProgressModel",
            "_view_count": null,
            "_view_module": "@jupyter-widgets/controls",
            "_view_module_version": "1.5.0",
            "_view_name": "ProgressView",
            "bar_style": "success",
            "description": "",
            "description_tooltip": null,
            "layout": "IPY_MODEL_fc6b44b6e80a483eb23bc0667302f4cc",
            "max": 10000,
            "min": 0,
            "orientation": "horizontal",
            "style": "IPY_MODEL_948af19ff8e946f39a8827b3a66f7097",
            "value": 10000
          }
        },
        "0e6306d78da24d8ea21a5d801d73bf73": {
          "model_module": "@jupyter-widgets/controls",
          "model_name": "HTMLModel",
          "model_module_version": "1.5.0",
          "state": {
            "_dom_classes": [],
            "_model_module": "@jupyter-widgets/controls",
            "_model_module_version": "1.5.0",
            "_model_name": "HTMLModel",
            "_view_count": null,
            "_view_module": "@jupyter-widgets/controls",
            "_view_module_version": "1.5.0",
            "_view_name": "HTMLView",
            "description": "",
            "description_tooltip": null,
            "layout": "IPY_MODEL_614fc35939ac4a3c82761846ec3fcd4d",
            "placeholder": "​",
            "style": "IPY_MODEL_06db7185dae248f6bce6b6f6dc53bed5",
            "value": " 10000/10000 [00:00&lt;00:00, 143044.85 examples/s]"
          }
        },
        "54c97138e33145c7825e58d5e72233da": {
          "model_module": "@jupyter-widgets/base",
          "model_name": "LayoutModel",
          "model_module_version": "1.2.0",
          "state": {
            "_model_module": "@jupyter-widgets/base",
            "_model_module_version": "1.2.0",
            "_model_name": "LayoutModel",
            "_view_count": null,
            "_view_module": "@jupyter-widgets/base",
            "_view_module_version": "1.2.0",
            "_view_name": "LayoutView",
            "align_content": null,
            "align_items": null,
            "align_self": null,
            "border": null,
            "bottom": null,
            "display": null,
            "flex": null,
            "flex_flow": null,
            "grid_area": null,
            "grid_auto_columns": null,
            "grid_auto_flow": null,
            "grid_auto_rows": null,
            "grid_column": null,
            "grid_gap": null,
            "grid_row": null,
            "grid_template_areas": null,
            "grid_template_columns": null,
            "grid_template_rows": null,
            "height": null,
            "justify_content": null,
            "justify_items": null,
            "left": null,
            "margin": null,
            "max_height": null,
            "max_width": null,
            "min_height": null,
            "min_width": null,
            "object_fit": null,
            "object_position": null,
            "order": null,
            "overflow": null,
            "overflow_x": null,
            "overflow_y": null,
            "padding": null,
            "right": null,
            "top": null,
            "visibility": null,
            "width": null
          }
        },
        "b07a53ccc56a42a995e994897dd89fa4": {
          "model_module": "@jupyter-widgets/base",
          "model_name": "LayoutModel",
          "model_module_version": "1.2.0",
          "state": {
            "_model_module": "@jupyter-widgets/base",
            "_model_module_version": "1.2.0",
            "_model_name": "LayoutModel",
            "_view_count": null,
            "_view_module": "@jupyter-widgets/base",
            "_view_module_version": "1.2.0",
            "_view_name": "LayoutView",
            "align_content": null,
            "align_items": null,
            "align_self": null,
            "border": null,
            "bottom": null,
            "display": null,
            "flex": null,
            "flex_flow": null,
            "grid_area": null,
            "grid_auto_columns": null,
            "grid_auto_flow": null,
            "grid_auto_rows": null,
            "grid_column": null,
            "grid_gap": null,
            "grid_row": null,
            "grid_template_areas": null,
            "grid_template_columns": null,
            "grid_template_rows": null,
            "height": null,
            "justify_content": null,
            "justify_items": null,
            "left": null,
            "margin": null,
            "max_height": null,
            "max_width": null,
            "min_height": null,
            "min_width": null,
            "object_fit": null,
            "object_position": null,
            "order": null,
            "overflow": null,
            "overflow_x": null,
            "overflow_y": null,
            "padding": null,
            "right": null,
            "top": null,
            "visibility": null,
            "width": null
          }
        },
        "7d728a97bd314ebea31d9d5987f4b5a7": {
          "model_module": "@jupyter-widgets/controls",
          "model_name": "DescriptionStyleModel",
          "model_module_version": "1.5.0",
          "state": {
            "_model_module": "@jupyter-widgets/controls",
            "_model_module_version": "1.5.0",
            "_model_name": "DescriptionStyleModel",
            "_view_count": null,
            "_view_module": "@jupyter-widgets/base",
            "_view_module_version": "1.2.0",
            "_view_name": "StyleView",
            "description_width": ""
          }
        },
        "fc6b44b6e80a483eb23bc0667302f4cc": {
          "model_module": "@jupyter-widgets/base",
          "model_name": "LayoutModel",
          "model_module_version": "1.2.0",
          "state": {
            "_model_module": "@jupyter-widgets/base",
            "_model_module_version": "1.2.0",
            "_model_name": "LayoutModel",
            "_view_count": null,
            "_view_module": "@jupyter-widgets/base",
            "_view_module_version": "1.2.0",
            "_view_name": "LayoutView",
            "align_content": null,
            "align_items": null,
            "align_self": null,
            "border": null,
            "bottom": null,
            "display": null,
            "flex": null,
            "flex_flow": null,
            "grid_area": null,
            "grid_auto_columns": null,
            "grid_auto_flow": null,
            "grid_auto_rows": null,
            "grid_column": null,
            "grid_gap": null,
            "grid_row": null,
            "grid_template_areas": null,
            "grid_template_columns": null,
            "grid_template_rows": null,
            "height": null,
            "justify_content": null,
            "justify_items": null,
            "left": null,
            "margin": null,
            "max_height": null,
            "max_width": null,
            "min_height": null,
            "min_width": null,
            "object_fit": null,
            "object_position": null,
            "order": null,
            "overflow": null,
            "overflow_x": null,
            "overflow_y": null,
            "padding": null,
            "right": null,
            "top": null,
            "visibility": null,
            "width": null
          }
        },
        "948af19ff8e946f39a8827b3a66f7097": {
          "model_module": "@jupyter-widgets/controls",
          "model_name": "ProgressStyleModel",
          "model_module_version": "1.5.0",
          "state": {
            "_model_module": "@jupyter-widgets/controls",
            "_model_module_version": "1.5.0",
            "_model_name": "ProgressStyleModel",
            "_view_count": null,
            "_view_module": "@jupyter-widgets/base",
            "_view_module_version": "1.2.0",
            "_view_name": "StyleView",
            "bar_color": null,
            "description_width": ""
          }
        },
        "614fc35939ac4a3c82761846ec3fcd4d": {
          "model_module": "@jupyter-widgets/base",
          "model_name": "LayoutModel",
          "model_module_version": "1.2.0",
          "state": {
            "_model_module": "@jupyter-widgets/base",
            "_model_module_version": "1.2.0",
            "_model_name": "LayoutModel",
            "_view_count": null,
            "_view_module": "@jupyter-widgets/base",
            "_view_module_version": "1.2.0",
            "_view_name": "LayoutView",
            "align_content": null,
            "align_items": null,
            "align_self": null,
            "border": null,
            "bottom": null,
            "display": null,
            "flex": null,
            "flex_flow": null,
            "grid_area": null,
            "grid_auto_columns": null,
            "grid_auto_flow": null,
            "grid_auto_rows": null,
            "grid_column": null,
            "grid_gap": null,
            "grid_row": null,
            "grid_template_areas": null,
            "grid_template_columns": null,
            "grid_template_rows": null,
            "height": null,
            "justify_content": null,
            "justify_items": null,
            "left": null,
            "margin": null,
            "max_height": null,
            "max_width": null,
            "min_height": null,
            "min_width": null,
            "object_fit": null,
            "object_position": null,
            "order": null,
            "overflow": null,
            "overflow_x": null,
            "overflow_y": null,
            "padding": null,
            "right": null,
            "top": null,
            "visibility": null,
            "width": null
          }
        },
        "06db7185dae248f6bce6b6f6dc53bed5": {
          "model_module": "@jupyter-widgets/controls",
          "model_name": "DescriptionStyleModel",
          "model_module_version": "1.5.0",
          "state": {
            "_model_module": "@jupyter-widgets/controls",
            "_model_module_version": "1.5.0",
            "_model_name": "DescriptionStyleModel",
            "_view_count": null,
            "_view_module": "@jupyter-widgets/base",
            "_view_module_version": "1.2.0",
            "_view_name": "StyleView",
            "description_width": ""
          }
        },
        "34db8b0ad3374fabb4ca0c3212c42fe3": {
          "model_module": "@jupyter-widgets/controls",
          "model_name": "HBoxModel",
          "model_module_version": "1.5.0",
          "state": {
            "_dom_classes": [],
            "_model_module": "@jupyter-widgets/controls",
            "_model_module_version": "1.5.0",
            "_model_name": "HBoxModel",
            "_view_count": null,
            "_view_module": "@jupyter-widgets/controls",
            "_view_module_version": "1.5.0",
            "_view_name": "HBoxView",
            "box_style": "",
            "children": [
              "IPY_MODEL_3fb9d80ac105410e85476196de253751",
              "IPY_MODEL_24cec64ca3ab41759767432af39a4602",
              "IPY_MODEL_6479b3b00c964ce39bafc6c13b83d2d6"
            ],
            "layout": "IPY_MODEL_b5c5a552460141479ef722e7ce59c0ae"
          }
        },
        "3fb9d80ac105410e85476196de253751": {
          "model_module": "@jupyter-widgets/controls",
          "model_name": "HTMLModel",
          "model_module_version": "1.5.0",
          "state": {
            "_dom_classes": [],
            "_model_module": "@jupyter-widgets/controls",
            "_model_module_version": "1.5.0",
            "_model_name": "HTMLModel",
            "_view_count": null,
            "_view_module": "@jupyter-widgets/controls",
            "_view_module_version": "1.5.0",
            "_view_name": "HTMLView",
            "description": "",
            "description_tooltip": null,
            "layout": "IPY_MODEL_fb9e28340dc044f8a6dd02dccbdab60b",
            "placeholder": "​",
            "style": "IPY_MODEL_e5f4e6b81a904259b78ab234bd6ed682",
            "value": "Generating train split: 100%"
          }
        },
        "24cec64ca3ab41759767432af39a4602": {
          "model_module": "@jupyter-widgets/controls",
          "model_name": "FloatProgressModel",
          "model_module_version": "1.5.0",
          "state": {
            "_dom_classes": [],
            "_model_module": "@jupyter-widgets/controls",
            "_model_module_version": "1.5.0",
            "_model_name": "FloatProgressModel",
            "_view_count": null,
            "_view_module": "@jupyter-widgets/controls",
            "_view_module_version": "1.5.0",
            "_view_name": "ProgressView",
            "bar_style": "success",
            "description": "",
            "description_tooltip": null,
            "layout": "IPY_MODEL_944863f525be4d59881ac4a76e7d3443",
            "max": 20000,
            "min": 0,
            "orientation": "horizontal",
            "style": "IPY_MODEL_d84e32d63ef54ae0bbd5365abb5f5eba",
            "value": 20000
          }
        },
        "6479b3b00c964ce39bafc6c13b83d2d6": {
          "model_module": "@jupyter-widgets/controls",
          "model_name": "HTMLModel",
          "model_module_version": "1.5.0",
          "state": {
            "_dom_classes": [],
            "_model_module": "@jupyter-widgets/controls",
            "_model_module_version": "1.5.0",
            "_model_name": "HTMLModel",
            "_view_count": null,
            "_view_module": "@jupyter-widgets/controls",
            "_view_module_version": "1.5.0",
            "_view_name": "HTMLView",
            "description": "",
            "description_tooltip": null,
            "layout": "IPY_MODEL_8e5a8db747b54d68b33eb48fd9f63ada",
            "placeholder": "​",
            "style": "IPY_MODEL_7b4ec64b120349138fe54abf8e7469cb",
            "value": " 20000/20000 [00:00&lt;00:00, 211790.75 examples/s]"
          }
        },
        "b5c5a552460141479ef722e7ce59c0ae": {
          "model_module": "@jupyter-widgets/base",
          "model_name": "LayoutModel",
          "model_module_version": "1.2.0",
          "state": {
            "_model_module": "@jupyter-widgets/base",
            "_model_module_version": "1.2.0",
            "_model_name": "LayoutModel",
            "_view_count": null,
            "_view_module": "@jupyter-widgets/base",
            "_view_module_version": "1.2.0",
            "_view_name": "LayoutView",
            "align_content": null,
            "align_items": null,
            "align_self": null,
            "border": null,
            "bottom": null,
            "display": null,
            "flex": null,
            "flex_flow": null,
            "grid_area": null,
            "grid_auto_columns": null,
            "grid_auto_flow": null,
            "grid_auto_rows": null,
            "grid_column": null,
            "grid_gap": null,
            "grid_row": null,
            "grid_template_areas": null,
            "grid_template_columns": null,
            "grid_template_rows": null,
            "height": null,
            "justify_content": null,
            "justify_items": null,
            "left": null,
            "margin": null,
            "max_height": null,
            "max_width": null,
            "min_height": null,
            "min_width": null,
            "object_fit": null,
            "object_position": null,
            "order": null,
            "overflow": null,
            "overflow_x": null,
            "overflow_y": null,
            "padding": null,
            "right": null,
            "top": null,
            "visibility": null,
            "width": null
          }
        },
        "fb9e28340dc044f8a6dd02dccbdab60b": {
          "model_module": "@jupyter-widgets/base",
          "model_name": "LayoutModel",
          "model_module_version": "1.2.0",
          "state": {
            "_model_module": "@jupyter-widgets/base",
            "_model_module_version": "1.2.0",
            "_model_name": "LayoutModel",
            "_view_count": null,
            "_view_module": "@jupyter-widgets/base",
            "_view_module_version": "1.2.0",
            "_view_name": "LayoutView",
            "align_content": null,
            "align_items": null,
            "align_self": null,
            "border": null,
            "bottom": null,
            "display": null,
            "flex": null,
            "flex_flow": null,
            "grid_area": null,
            "grid_auto_columns": null,
            "grid_auto_flow": null,
            "grid_auto_rows": null,
            "grid_column": null,
            "grid_gap": null,
            "grid_row": null,
            "grid_template_areas": null,
            "grid_template_columns": null,
            "grid_template_rows": null,
            "height": null,
            "justify_content": null,
            "justify_items": null,
            "left": null,
            "margin": null,
            "max_height": null,
            "max_width": null,
            "min_height": null,
            "min_width": null,
            "object_fit": null,
            "object_position": null,
            "order": null,
            "overflow": null,
            "overflow_x": null,
            "overflow_y": null,
            "padding": null,
            "right": null,
            "top": null,
            "visibility": null,
            "width": null
          }
        },
        "e5f4e6b81a904259b78ab234bd6ed682": {
          "model_module": "@jupyter-widgets/controls",
          "model_name": "DescriptionStyleModel",
          "model_module_version": "1.5.0",
          "state": {
            "_model_module": "@jupyter-widgets/controls",
            "_model_module_version": "1.5.0",
            "_model_name": "DescriptionStyleModel",
            "_view_count": null,
            "_view_module": "@jupyter-widgets/base",
            "_view_module_version": "1.2.0",
            "_view_name": "StyleView",
            "description_width": ""
          }
        },
        "944863f525be4d59881ac4a76e7d3443": {
          "model_module": "@jupyter-widgets/base",
          "model_name": "LayoutModel",
          "model_module_version": "1.2.0",
          "state": {
            "_model_module": "@jupyter-widgets/base",
            "_model_module_version": "1.2.0",
            "_model_name": "LayoutModel",
            "_view_count": null,
            "_view_module": "@jupyter-widgets/base",
            "_view_module_version": "1.2.0",
            "_view_name": "LayoutView",
            "align_content": null,
            "align_items": null,
            "align_self": null,
            "border": null,
            "bottom": null,
            "display": null,
            "flex": null,
            "flex_flow": null,
            "grid_area": null,
            "grid_auto_columns": null,
            "grid_auto_flow": null,
            "grid_auto_rows": null,
            "grid_column": null,
            "grid_gap": null,
            "grid_row": null,
            "grid_template_areas": null,
            "grid_template_columns": null,
            "grid_template_rows": null,
            "height": null,
            "justify_content": null,
            "justify_items": null,
            "left": null,
            "margin": null,
            "max_height": null,
            "max_width": null,
            "min_height": null,
            "min_width": null,
            "object_fit": null,
            "object_position": null,
            "order": null,
            "overflow": null,
            "overflow_x": null,
            "overflow_y": null,
            "padding": null,
            "right": null,
            "top": null,
            "visibility": null,
            "width": null
          }
        },
        "d84e32d63ef54ae0bbd5365abb5f5eba": {
          "model_module": "@jupyter-widgets/controls",
          "model_name": "ProgressStyleModel",
          "model_module_version": "1.5.0",
          "state": {
            "_model_module": "@jupyter-widgets/controls",
            "_model_module_version": "1.5.0",
            "_model_name": "ProgressStyleModel",
            "_view_count": null,
            "_view_module": "@jupyter-widgets/base",
            "_view_module_version": "1.2.0",
            "_view_name": "StyleView",
            "bar_color": null,
            "description_width": ""
          }
        },
        "8e5a8db747b54d68b33eb48fd9f63ada": {
          "model_module": "@jupyter-widgets/base",
          "model_name": "LayoutModel",
          "model_module_version": "1.2.0",
          "state": {
            "_model_module": "@jupyter-widgets/base",
            "_model_module_version": "1.2.0",
            "_model_name": "LayoutModel",
            "_view_count": null,
            "_view_module": "@jupyter-widgets/base",
            "_view_module_version": "1.2.0",
            "_view_name": "LayoutView",
            "align_content": null,
            "align_items": null,
            "align_self": null,
            "border": null,
            "bottom": null,
            "display": null,
            "flex": null,
            "flex_flow": null,
            "grid_area": null,
            "grid_auto_columns": null,
            "grid_auto_flow": null,
            "grid_auto_rows": null,
            "grid_column": null,
            "grid_gap": null,
            "grid_row": null,
            "grid_template_areas": null,
            "grid_template_columns": null,
            "grid_template_rows": null,
            "height": null,
            "justify_content": null,
            "justify_items": null,
            "left": null,
            "margin": null,
            "max_height": null,
            "max_width": null,
            "min_height": null,
            "min_width": null,
            "object_fit": null,
            "object_position": null,
            "order": null,
            "overflow": null,
            "overflow_x": null,
            "overflow_y": null,
            "padding": null,
            "right": null,
            "top": null,
            "visibility": null,
            "width": null
          }
        },
        "7b4ec64b120349138fe54abf8e7469cb": {
          "model_module": "@jupyter-widgets/controls",
          "model_name": "DescriptionStyleModel",
          "model_module_version": "1.5.0",
          "state": {
            "_model_module": "@jupyter-widgets/controls",
            "_model_module_version": "1.5.0",
            "_model_name": "DescriptionStyleModel",
            "_view_count": null,
            "_view_module": "@jupyter-widgets/base",
            "_view_module_version": "1.2.0",
            "_view_name": "StyleView",
            "description_width": ""
          }
        },
        "cf8aef72c43547fda16f2c27d18d7701": {
          "model_module": "@jupyter-widgets/controls",
          "model_name": "HBoxModel",
          "model_module_version": "1.5.0",
          "state": {
            "_dom_classes": [],
            "_model_module": "@jupyter-widgets/controls",
            "_model_module_version": "1.5.0",
            "_model_name": "HBoxModel",
            "_view_count": null,
            "_view_module": "@jupyter-widgets/controls",
            "_view_module_version": "1.5.0",
            "_view_name": "HBoxView",
            "box_style": "",
            "children": [
              "IPY_MODEL_b3503ed85bc645b7a2cfb50966bf4514",
              "IPY_MODEL_34c4848495ac4436ac4df0710d300040",
              "IPY_MODEL_8ffd9848abbc4cb8b501653edc59a2ec"
            ],
            "layout": "IPY_MODEL_7465169d100b4873a2c57577dccb6305"
          }
        },
        "b3503ed85bc645b7a2cfb50966bf4514": {
          "model_module": "@jupyter-widgets/controls",
          "model_name": "HTMLModel",
          "model_module_version": "1.5.0",
          "state": {
            "_dom_classes": [],
            "_model_module": "@jupyter-widgets/controls",
            "_model_module_version": "1.5.0",
            "_model_name": "HTMLModel",
            "_view_count": null,
            "_view_module": "@jupyter-widgets/controls",
            "_view_module_version": "1.5.0",
            "_view_name": "HTMLView",
            "description": "",
            "description_tooltip": null,
            "layout": "IPY_MODEL_1bc39c2cd7384480a77fac8fd57f8930",
            "placeholder": "​",
            "style": "IPY_MODEL_6e209cc8f86243b29edde60e11ec5cec",
            "value": "tokenizer_config.json: 100%"
          }
        },
        "34c4848495ac4436ac4df0710d300040": {
          "model_module": "@jupyter-widgets/controls",
          "model_name": "FloatProgressModel",
          "model_module_version": "1.5.0",
          "state": {
            "_dom_classes": [],
            "_model_module": "@jupyter-widgets/controls",
            "_model_module_version": "1.5.0",
            "_model_name": "FloatProgressModel",
            "_view_count": null,
            "_view_module": "@jupyter-widgets/controls",
            "_view_module_version": "1.5.0",
            "_view_name": "ProgressView",
            "bar_style": "success",
            "description": "",
            "description_tooltip": null,
            "layout": "IPY_MODEL_5d5609f1533f46c1b33a88859c7c1c15",
            "max": 24,
            "min": 0,
            "orientation": "horizontal",
            "style": "IPY_MODEL_7d1ad06e06444c9196ecc423e3b9898a",
            "value": 24
          }
        },
        "8ffd9848abbc4cb8b501653edc59a2ec": {
          "model_module": "@jupyter-widgets/controls",
          "model_name": "HTMLModel",
          "model_module_version": "1.5.0",
          "state": {
            "_dom_classes": [],
            "_model_module": "@jupyter-widgets/controls",
            "_model_module_version": "1.5.0",
            "_model_name": "HTMLModel",
            "_view_count": null,
            "_view_module": "@jupyter-widgets/controls",
            "_view_module_version": "1.5.0",
            "_view_name": "HTMLView",
            "description": "",
            "description_tooltip": null,
            "layout": "IPY_MODEL_18b00f93f41b4e88b5202210619cacd1",
            "placeholder": "​",
            "style": "IPY_MODEL_67040542dfa2427a973c826cd423f16e",
            "value": " 24.0/24.0 [00:00&lt;00:00, 613B/s]"
          }
        },
        "7465169d100b4873a2c57577dccb6305": {
          "model_module": "@jupyter-widgets/base",
          "model_name": "LayoutModel",
          "model_module_version": "1.2.0",
          "state": {
            "_model_module": "@jupyter-widgets/base",
            "_model_module_version": "1.2.0",
            "_model_name": "LayoutModel",
            "_view_count": null,
            "_view_module": "@jupyter-widgets/base",
            "_view_module_version": "1.2.0",
            "_view_name": "LayoutView",
            "align_content": null,
            "align_items": null,
            "align_self": null,
            "border": null,
            "bottom": null,
            "display": null,
            "flex": null,
            "flex_flow": null,
            "grid_area": null,
            "grid_auto_columns": null,
            "grid_auto_flow": null,
            "grid_auto_rows": null,
            "grid_column": null,
            "grid_gap": null,
            "grid_row": null,
            "grid_template_areas": null,
            "grid_template_columns": null,
            "grid_template_rows": null,
            "height": null,
            "justify_content": null,
            "justify_items": null,
            "left": null,
            "margin": null,
            "max_height": null,
            "max_width": null,
            "min_height": null,
            "min_width": null,
            "object_fit": null,
            "object_position": null,
            "order": null,
            "overflow": null,
            "overflow_x": null,
            "overflow_y": null,
            "padding": null,
            "right": null,
            "top": null,
            "visibility": null,
            "width": null
          }
        },
        "1bc39c2cd7384480a77fac8fd57f8930": {
          "model_module": "@jupyter-widgets/base",
          "model_name": "LayoutModel",
          "model_module_version": "1.2.0",
          "state": {
            "_model_module": "@jupyter-widgets/base",
            "_model_module_version": "1.2.0",
            "_model_name": "LayoutModel",
            "_view_count": null,
            "_view_module": "@jupyter-widgets/base",
            "_view_module_version": "1.2.0",
            "_view_name": "LayoutView",
            "align_content": null,
            "align_items": null,
            "align_self": null,
            "border": null,
            "bottom": null,
            "display": null,
            "flex": null,
            "flex_flow": null,
            "grid_area": null,
            "grid_auto_columns": null,
            "grid_auto_flow": null,
            "grid_auto_rows": null,
            "grid_column": null,
            "grid_gap": null,
            "grid_row": null,
            "grid_template_areas": null,
            "grid_template_columns": null,
            "grid_template_rows": null,
            "height": null,
            "justify_content": null,
            "justify_items": null,
            "left": null,
            "margin": null,
            "max_height": null,
            "max_width": null,
            "min_height": null,
            "min_width": null,
            "object_fit": null,
            "object_position": null,
            "order": null,
            "overflow": null,
            "overflow_x": null,
            "overflow_y": null,
            "padding": null,
            "right": null,
            "top": null,
            "visibility": null,
            "width": null
          }
        },
        "6e209cc8f86243b29edde60e11ec5cec": {
          "model_module": "@jupyter-widgets/controls",
          "model_name": "DescriptionStyleModel",
          "model_module_version": "1.5.0",
          "state": {
            "_model_module": "@jupyter-widgets/controls",
            "_model_module_version": "1.5.0",
            "_model_name": "DescriptionStyleModel",
            "_view_count": null,
            "_view_module": "@jupyter-widgets/base",
            "_view_module_version": "1.2.0",
            "_view_name": "StyleView",
            "description_width": ""
          }
        },
        "5d5609f1533f46c1b33a88859c7c1c15": {
          "model_module": "@jupyter-widgets/base",
          "model_name": "LayoutModel",
          "model_module_version": "1.2.0",
          "state": {
            "_model_module": "@jupyter-widgets/base",
            "_model_module_version": "1.2.0",
            "_model_name": "LayoutModel",
            "_view_count": null,
            "_view_module": "@jupyter-widgets/base",
            "_view_module_version": "1.2.0",
            "_view_name": "LayoutView",
            "align_content": null,
            "align_items": null,
            "align_self": null,
            "border": null,
            "bottom": null,
            "display": null,
            "flex": null,
            "flex_flow": null,
            "grid_area": null,
            "grid_auto_columns": null,
            "grid_auto_flow": null,
            "grid_auto_rows": null,
            "grid_column": null,
            "grid_gap": null,
            "grid_row": null,
            "grid_template_areas": null,
            "grid_template_columns": null,
            "grid_template_rows": null,
            "height": null,
            "justify_content": null,
            "justify_items": null,
            "left": null,
            "margin": null,
            "max_height": null,
            "max_width": null,
            "min_height": null,
            "min_width": null,
            "object_fit": null,
            "object_position": null,
            "order": null,
            "overflow": null,
            "overflow_x": null,
            "overflow_y": null,
            "padding": null,
            "right": null,
            "top": null,
            "visibility": null,
            "width": null
          }
        },
        "7d1ad06e06444c9196ecc423e3b9898a": {
          "model_module": "@jupyter-widgets/controls",
          "model_name": "ProgressStyleModel",
          "model_module_version": "1.5.0",
          "state": {
            "_model_module": "@jupyter-widgets/controls",
            "_model_module_version": "1.5.0",
            "_model_name": "ProgressStyleModel",
            "_view_count": null,
            "_view_module": "@jupyter-widgets/base",
            "_view_module_version": "1.2.0",
            "_view_name": "StyleView",
            "bar_color": null,
            "description_width": ""
          }
        },
        "18b00f93f41b4e88b5202210619cacd1": {
          "model_module": "@jupyter-widgets/base",
          "model_name": "LayoutModel",
          "model_module_version": "1.2.0",
          "state": {
            "_model_module": "@jupyter-widgets/base",
            "_model_module_version": "1.2.0",
            "_model_name": "LayoutModel",
            "_view_count": null,
            "_view_module": "@jupyter-widgets/base",
            "_view_module_version": "1.2.0",
            "_view_name": "LayoutView",
            "align_content": null,
            "align_items": null,
            "align_self": null,
            "border": null,
            "bottom": null,
            "display": null,
            "flex": null,
            "flex_flow": null,
            "grid_area": null,
            "grid_auto_columns": null,
            "grid_auto_flow": null,
            "grid_auto_rows": null,
            "grid_column": null,
            "grid_gap": null,
            "grid_row": null,
            "grid_template_areas": null,
            "grid_template_columns": null,
            "grid_template_rows": null,
            "height": null,
            "justify_content": null,
            "justify_items": null,
            "left": null,
            "margin": null,
            "max_height": null,
            "max_width": null,
            "min_height": null,
            "min_width": null,
            "object_fit": null,
            "object_position": null,
            "order": null,
            "overflow": null,
            "overflow_x": null,
            "overflow_y": null,
            "padding": null,
            "right": null,
            "top": null,
            "visibility": null,
            "width": null
          }
        },
        "67040542dfa2427a973c826cd423f16e": {
          "model_module": "@jupyter-widgets/controls",
          "model_name": "DescriptionStyleModel",
          "model_module_version": "1.5.0",
          "state": {
            "_model_module": "@jupyter-widgets/controls",
            "_model_module_version": "1.5.0",
            "_model_name": "DescriptionStyleModel",
            "_view_count": null,
            "_view_module": "@jupyter-widgets/base",
            "_view_module_version": "1.2.0",
            "_view_name": "StyleView",
            "description_width": ""
          }
        },
        "17b74e9913274b08b3e64a7a16f0258d": {
          "model_module": "@jupyter-widgets/controls",
          "model_name": "HBoxModel",
          "model_module_version": "1.5.0",
          "state": {
            "_dom_classes": [],
            "_model_module": "@jupyter-widgets/controls",
            "_model_module_version": "1.5.0",
            "_model_name": "HBoxModel",
            "_view_count": null,
            "_view_module": "@jupyter-widgets/controls",
            "_view_module_version": "1.5.0",
            "_view_name": "HBoxView",
            "box_style": "",
            "children": [
              "IPY_MODEL_44ea0865a98a444baeb8d7351983306c",
              "IPY_MODEL_3bcd11db2db34fffbcbd23c7b3869f17",
              "IPY_MODEL_ca49029e8e694992a2498a357156672f"
            ],
            "layout": "IPY_MODEL_fce6cc454c074e8590816dbf26f09c4d"
          }
        },
        "44ea0865a98a444baeb8d7351983306c": {
          "model_module": "@jupyter-widgets/controls",
          "model_name": "HTMLModel",
          "model_module_version": "1.5.0",
          "state": {
            "_dom_classes": [],
            "_model_module": "@jupyter-widgets/controls",
            "_model_module_version": "1.5.0",
            "_model_name": "HTMLModel",
            "_view_count": null,
            "_view_module": "@jupyter-widgets/controls",
            "_view_module_version": "1.5.0",
            "_view_name": "HTMLView",
            "description": "",
            "description_tooltip": null,
            "layout": "IPY_MODEL_963a65e1b1bc4d99a5d3f30eac353bc6",
            "placeholder": "​",
            "style": "IPY_MODEL_2e83ec52de164aeab7ffafe99e798a10",
            "value": "config.json: 100%"
          }
        },
        "3bcd11db2db34fffbcbd23c7b3869f17": {
          "model_module": "@jupyter-widgets/controls",
          "model_name": "FloatProgressModel",
          "model_module_version": "1.5.0",
          "state": {
            "_dom_classes": [],
            "_model_module": "@jupyter-widgets/controls",
            "_model_module_version": "1.5.0",
            "_model_name": "FloatProgressModel",
            "_view_count": null,
            "_view_module": "@jupyter-widgets/controls",
            "_view_module_version": "1.5.0",
            "_view_name": "ProgressView",
            "bar_style": "success",
            "description": "",
            "description_tooltip": null,
            "layout": "IPY_MODEL_58e3bc2e750d4a15a6e6938e7f2acefe",
            "max": 642,
            "min": 0,
            "orientation": "horizontal",
            "style": "IPY_MODEL_db75cedf9a3d4119b8e9af4e8b860aa0",
            "value": 642
          }
        },
        "ca49029e8e694992a2498a357156672f": {
          "model_module": "@jupyter-widgets/controls",
          "model_name": "HTMLModel",
          "model_module_version": "1.5.0",
          "state": {
            "_dom_classes": [],
            "_model_module": "@jupyter-widgets/controls",
            "_model_module_version": "1.5.0",
            "_model_name": "HTMLModel",
            "_view_count": null,
            "_view_module": "@jupyter-widgets/controls",
            "_view_module_version": "1.5.0",
            "_view_name": "HTMLView",
            "description": "",
            "description_tooltip": null,
            "layout": "IPY_MODEL_c9a9806e81a64f60b83bb69cd9898418",
            "placeholder": "​",
            "style": "IPY_MODEL_73668d7394814f1db38079ec5f191ff4",
            "value": " 642/642 [00:00&lt;00:00, 16.0kB/s]"
          }
        },
        "fce6cc454c074e8590816dbf26f09c4d": {
          "model_module": "@jupyter-widgets/base",
          "model_name": "LayoutModel",
          "model_module_version": "1.2.0",
          "state": {
            "_model_module": "@jupyter-widgets/base",
            "_model_module_version": "1.2.0",
            "_model_name": "LayoutModel",
            "_view_count": null,
            "_view_module": "@jupyter-widgets/base",
            "_view_module_version": "1.2.0",
            "_view_name": "LayoutView",
            "align_content": null,
            "align_items": null,
            "align_self": null,
            "border": null,
            "bottom": null,
            "display": null,
            "flex": null,
            "flex_flow": null,
            "grid_area": null,
            "grid_auto_columns": null,
            "grid_auto_flow": null,
            "grid_auto_rows": null,
            "grid_column": null,
            "grid_gap": null,
            "grid_row": null,
            "grid_template_areas": null,
            "grid_template_columns": null,
            "grid_template_rows": null,
            "height": null,
            "justify_content": null,
            "justify_items": null,
            "left": null,
            "margin": null,
            "max_height": null,
            "max_width": null,
            "min_height": null,
            "min_width": null,
            "object_fit": null,
            "object_position": null,
            "order": null,
            "overflow": null,
            "overflow_x": null,
            "overflow_y": null,
            "padding": null,
            "right": null,
            "top": null,
            "visibility": null,
            "width": null
          }
        },
        "963a65e1b1bc4d99a5d3f30eac353bc6": {
          "model_module": "@jupyter-widgets/base",
          "model_name": "LayoutModel",
          "model_module_version": "1.2.0",
          "state": {
            "_model_module": "@jupyter-widgets/base",
            "_model_module_version": "1.2.0",
            "_model_name": "LayoutModel",
            "_view_count": null,
            "_view_module": "@jupyter-widgets/base",
            "_view_module_version": "1.2.0",
            "_view_name": "LayoutView",
            "align_content": null,
            "align_items": null,
            "align_self": null,
            "border": null,
            "bottom": null,
            "display": null,
            "flex": null,
            "flex_flow": null,
            "grid_area": null,
            "grid_auto_columns": null,
            "grid_auto_flow": null,
            "grid_auto_rows": null,
            "grid_column": null,
            "grid_gap": null,
            "grid_row": null,
            "grid_template_areas": null,
            "grid_template_columns": null,
            "grid_template_rows": null,
            "height": null,
            "justify_content": null,
            "justify_items": null,
            "left": null,
            "margin": null,
            "max_height": null,
            "max_width": null,
            "min_height": null,
            "min_width": null,
            "object_fit": null,
            "object_position": null,
            "order": null,
            "overflow": null,
            "overflow_x": null,
            "overflow_y": null,
            "padding": null,
            "right": null,
            "top": null,
            "visibility": null,
            "width": null
          }
        },
        "2e83ec52de164aeab7ffafe99e798a10": {
          "model_module": "@jupyter-widgets/controls",
          "model_name": "DescriptionStyleModel",
          "model_module_version": "1.5.0",
          "state": {
            "_model_module": "@jupyter-widgets/controls",
            "_model_module_version": "1.5.0",
            "_model_name": "DescriptionStyleModel",
            "_view_count": null,
            "_view_module": "@jupyter-widgets/base",
            "_view_module_version": "1.2.0",
            "_view_name": "StyleView",
            "description_width": ""
          }
        },
        "58e3bc2e750d4a15a6e6938e7f2acefe": {
          "model_module": "@jupyter-widgets/base",
          "model_name": "LayoutModel",
          "model_module_version": "1.2.0",
          "state": {
            "_model_module": "@jupyter-widgets/base",
            "_model_module_version": "1.2.0",
            "_model_name": "LayoutModel",
            "_view_count": null,
            "_view_module": "@jupyter-widgets/base",
            "_view_module_version": "1.2.0",
            "_view_name": "LayoutView",
            "align_content": null,
            "align_items": null,
            "align_self": null,
            "border": null,
            "bottom": null,
            "display": null,
            "flex": null,
            "flex_flow": null,
            "grid_area": null,
            "grid_auto_columns": null,
            "grid_auto_flow": null,
            "grid_auto_rows": null,
            "grid_column": null,
            "grid_gap": null,
            "grid_row": null,
            "grid_template_areas": null,
            "grid_template_columns": null,
            "grid_template_rows": null,
            "height": null,
            "justify_content": null,
            "justify_items": null,
            "left": null,
            "margin": null,
            "max_height": null,
            "max_width": null,
            "min_height": null,
            "min_width": null,
            "object_fit": null,
            "object_position": null,
            "order": null,
            "overflow": null,
            "overflow_x": null,
            "overflow_y": null,
            "padding": null,
            "right": null,
            "top": null,
            "visibility": null,
            "width": null
          }
        },
        "db75cedf9a3d4119b8e9af4e8b860aa0": {
          "model_module": "@jupyter-widgets/controls",
          "model_name": "ProgressStyleModel",
          "model_module_version": "1.5.0",
          "state": {
            "_model_module": "@jupyter-widgets/controls",
            "_model_module_version": "1.5.0",
            "_model_name": "ProgressStyleModel",
            "_view_count": null,
            "_view_module": "@jupyter-widgets/base",
            "_view_module_version": "1.2.0",
            "_view_name": "StyleView",
            "bar_color": null,
            "description_width": ""
          }
        },
        "c9a9806e81a64f60b83bb69cd9898418": {
          "model_module": "@jupyter-widgets/base",
          "model_name": "LayoutModel",
          "model_module_version": "1.2.0",
          "state": {
            "_model_module": "@jupyter-widgets/base",
            "_model_module_version": "1.2.0",
            "_model_name": "LayoutModel",
            "_view_count": null,
            "_view_module": "@jupyter-widgets/base",
            "_view_module_version": "1.2.0",
            "_view_name": "LayoutView",
            "align_content": null,
            "align_items": null,
            "align_self": null,
            "border": null,
            "bottom": null,
            "display": null,
            "flex": null,
            "flex_flow": null,
            "grid_area": null,
            "grid_auto_columns": null,
            "grid_auto_flow": null,
            "grid_auto_rows": null,
            "grid_column": null,
            "grid_gap": null,
            "grid_row": null,
            "grid_template_areas": null,
            "grid_template_columns": null,
            "grid_template_rows": null,
            "height": null,
            "justify_content": null,
            "justify_items": null,
            "left": null,
            "margin": null,
            "max_height": null,
            "max_width": null,
            "min_height": null,
            "min_width": null,
            "object_fit": null,
            "object_position": null,
            "order": null,
            "overflow": null,
            "overflow_x": null,
            "overflow_y": null,
            "padding": null,
            "right": null,
            "top": null,
            "visibility": null,
            "width": null
          }
        },
        "73668d7394814f1db38079ec5f191ff4": {
          "model_module": "@jupyter-widgets/controls",
          "model_name": "DescriptionStyleModel",
          "model_module_version": "1.5.0",
          "state": {
            "_model_module": "@jupyter-widgets/controls",
            "_model_module_version": "1.5.0",
            "_model_name": "DescriptionStyleModel",
            "_view_count": null,
            "_view_module": "@jupyter-widgets/base",
            "_view_module_version": "1.2.0",
            "_view_name": "StyleView",
            "description_width": ""
          }
        },
        "82ef7376d5084981991ed85e6e74c980": {
          "model_module": "@jupyter-widgets/controls",
          "model_name": "HBoxModel",
          "model_module_version": "1.5.0",
          "state": {
            "_dom_classes": [],
            "_model_module": "@jupyter-widgets/controls",
            "_model_module_version": "1.5.0",
            "_model_name": "HBoxModel",
            "_view_count": null,
            "_view_module": "@jupyter-widgets/controls",
            "_view_module_version": "1.5.0",
            "_view_name": "HBoxView",
            "box_style": "",
            "children": [
              "IPY_MODEL_07472a3a93894bb2ba5eb4f4ab61d4f2",
              "IPY_MODEL_fc0e5053874b4ce79c0f348ac91504c6",
              "IPY_MODEL_c83770aaa7f4441abaf3bf93fd8a2371"
            ],
            "layout": "IPY_MODEL_77fb4cf14928409b8ca6c113c8841557"
          }
        },
        "07472a3a93894bb2ba5eb4f4ab61d4f2": {
          "model_module": "@jupyter-widgets/controls",
          "model_name": "HTMLModel",
          "model_module_version": "1.5.0",
          "state": {
            "_dom_classes": [],
            "_model_module": "@jupyter-widgets/controls",
            "_model_module_version": "1.5.0",
            "_model_name": "HTMLModel",
            "_view_count": null,
            "_view_module": "@jupyter-widgets/controls",
            "_view_module_version": "1.5.0",
            "_view_name": "HTMLView",
            "description": "",
            "description_tooltip": null,
            "layout": "IPY_MODEL_be3f0d9ca66d48c1a35a11acd9c03d8a",
            "placeholder": "​",
            "style": "IPY_MODEL_63ecfc48a06e4ba6a55a3d29e3b90252",
            "value": "vocab.txt: 100%"
          }
        },
        "fc0e5053874b4ce79c0f348ac91504c6": {
          "model_module": "@jupyter-widgets/controls",
          "model_name": "FloatProgressModel",
          "model_module_version": "1.5.0",
          "state": {
            "_dom_classes": [],
            "_model_module": "@jupyter-widgets/controls",
            "_model_module_version": "1.5.0",
            "_model_name": "FloatProgressModel",
            "_view_count": null,
            "_view_module": "@jupyter-widgets/controls",
            "_view_module_version": "1.5.0",
            "_view_name": "ProgressView",
            "bar_style": "success",
            "description": "",
            "description_tooltip": null,
            "layout": "IPY_MODEL_e9f6364c1250491e8a4fd8c4cd64a366",
            "max": 1649718,
            "min": 0,
            "orientation": "horizontal",
            "style": "IPY_MODEL_e1a2d1e6add64ad0bc144f4ec9c4d311",
            "value": 1649718
          }
        },
        "c83770aaa7f4441abaf3bf93fd8a2371": {
          "model_module": "@jupyter-widgets/controls",
          "model_name": "HTMLModel",
          "model_module_version": "1.5.0",
          "state": {
            "_dom_classes": [],
            "_model_module": "@jupyter-widgets/controls",
            "_model_module_version": "1.5.0",
            "_model_name": "HTMLModel",
            "_view_count": null,
            "_view_module": "@jupyter-widgets/controls",
            "_view_module_version": "1.5.0",
            "_view_name": "HTMLView",
            "description": "",
            "description_tooltip": null,
            "layout": "IPY_MODEL_969a0345508a4b5384e301849c6e6b4f",
            "placeholder": "​",
            "style": "IPY_MODEL_38c02d023cf4445285b48f0f19d7b1bd",
            "value": " 1.65M/1.65M [00:00&lt;00:00, 8.46MB/s]"
          }
        },
        "77fb4cf14928409b8ca6c113c8841557": {
          "model_module": "@jupyter-widgets/base",
          "model_name": "LayoutModel",
          "model_module_version": "1.2.0",
          "state": {
            "_model_module": "@jupyter-widgets/base",
            "_model_module_version": "1.2.0",
            "_model_name": "LayoutModel",
            "_view_count": null,
            "_view_module": "@jupyter-widgets/base",
            "_view_module_version": "1.2.0",
            "_view_name": "LayoutView",
            "align_content": null,
            "align_items": null,
            "align_self": null,
            "border": null,
            "bottom": null,
            "display": null,
            "flex": null,
            "flex_flow": null,
            "grid_area": null,
            "grid_auto_columns": null,
            "grid_auto_flow": null,
            "grid_auto_rows": null,
            "grid_column": null,
            "grid_gap": null,
            "grid_row": null,
            "grid_template_areas": null,
            "grid_template_columns": null,
            "grid_template_rows": null,
            "height": null,
            "justify_content": null,
            "justify_items": null,
            "left": null,
            "margin": null,
            "max_height": null,
            "max_width": null,
            "min_height": null,
            "min_width": null,
            "object_fit": null,
            "object_position": null,
            "order": null,
            "overflow": null,
            "overflow_x": null,
            "overflow_y": null,
            "padding": null,
            "right": null,
            "top": null,
            "visibility": null,
            "width": null
          }
        },
        "be3f0d9ca66d48c1a35a11acd9c03d8a": {
          "model_module": "@jupyter-widgets/base",
          "model_name": "LayoutModel",
          "model_module_version": "1.2.0",
          "state": {
            "_model_module": "@jupyter-widgets/base",
            "_model_module_version": "1.2.0",
            "_model_name": "LayoutModel",
            "_view_count": null,
            "_view_module": "@jupyter-widgets/base",
            "_view_module_version": "1.2.0",
            "_view_name": "LayoutView",
            "align_content": null,
            "align_items": null,
            "align_self": null,
            "border": null,
            "bottom": null,
            "display": null,
            "flex": null,
            "flex_flow": null,
            "grid_area": null,
            "grid_auto_columns": null,
            "grid_auto_flow": null,
            "grid_auto_rows": null,
            "grid_column": null,
            "grid_gap": null,
            "grid_row": null,
            "grid_template_areas": null,
            "grid_template_columns": null,
            "grid_template_rows": null,
            "height": null,
            "justify_content": null,
            "justify_items": null,
            "left": null,
            "margin": null,
            "max_height": null,
            "max_width": null,
            "min_height": null,
            "min_width": null,
            "object_fit": null,
            "object_position": null,
            "order": null,
            "overflow": null,
            "overflow_x": null,
            "overflow_y": null,
            "padding": null,
            "right": null,
            "top": null,
            "visibility": null,
            "width": null
          }
        },
        "63ecfc48a06e4ba6a55a3d29e3b90252": {
          "model_module": "@jupyter-widgets/controls",
          "model_name": "DescriptionStyleModel",
          "model_module_version": "1.5.0",
          "state": {
            "_model_module": "@jupyter-widgets/controls",
            "_model_module_version": "1.5.0",
            "_model_name": "DescriptionStyleModel",
            "_view_count": null,
            "_view_module": "@jupyter-widgets/base",
            "_view_module_version": "1.2.0",
            "_view_name": "StyleView",
            "description_width": ""
          }
        },
        "e9f6364c1250491e8a4fd8c4cd64a366": {
          "model_module": "@jupyter-widgets/base",
          "model_name": "LayoutModel",
          "model_module_version": "1.2.0",
          "state": {
            "_model_module": "@jupyter-widgets/base",
            "_model_module_version": "1.2.0",
            "_model_name": "LayoutModel",
            "_view_count": null,
            "_view_module": "@jupyter-widgets/base",
            "_view_module_version": "1.2.0",
            "_view_name": "LayoutView",
            "align_content": null,
            "align_items": null,
            "align_self": null,
            "border": null,
            "bottom": null,
            "display": null,
            "flex": null,
            "flex_flow": null,
            "grid_area": null,
            "grid_auto_columns": null,
            "grid_auto_flow": null,
            "grid_auto_rows": null,
            "grid_column": null,
            "grid_gap": null,
            "grid_row": null,
            "grid_template_areas": null,
            "grid_template_columns": null,
            "grid_template_rows": null,
            "height": null,
            "justify_content": null,
            "justify_items": null,
            "left": null,
            "margin": null,
            "max_height": null,
            "max_width": null,
            "min_height": null,
            "min_width": null,
            "object_fit": null,
            "object_position": null,
            "order": null,
            "overflow": null,
            "overflow_x": null,
            "overflow_y": null,
            "padding": null,
            "right": null,
            "top": null,
            "visibility": null,
            "width": null
          }
        },
        "e1a2d1e6add64ad0bc144f4ec9c4d311": {
          "model_module": "@jupyter-widgets/controls",
          "model_name": "ProgressStyleModel",
          "model_module_version": "1.5.0",
          "state": {
            "_model_module": "@jupyter-widgets/controls",
            "_model_module_version": "1.5.0",
            "_model_name": "ProgressStyleModel",
            "_view_count": null,
            "_view_module": "@jupyter-widgets/base",
            "_view_module_version": "1.2.0",
            "_view_name": "StyleView",
            "bar_color": null,
            "description_width": ""
          }
        },
        "969a0345508a4b5384e301849c6e6b4f": {
          "model_module": "@jupyter-widgets/base",
          "model_name": "LayoutModel",
          "model_module_version": "1.2.0",
          "state": {
            "_model_module": "@jupyter-widgets/base",
            "_model_module_version": "1.2.0",
            "_model_name": "LayoutModel",
            "_view_count": null,
            "_view_module": "@jupyter-widgets/base",
            "_view_module_version": "1.2.0",
            "_view_name": "LayoutView",
            "align_content": null,
            "align_items": null,
            "align_self": null,
            "border": null,
            "bottom": null,
            "display": null,
            "flex": null,
            "flex_flow": null,
            "grid_area": null,
            "grid_auto_columns": null,
            "grid_auto_flow": null,
            "grid_auto_rows": null,
            "grid_column": null,
            "grid_gap": null,
            "grid_row": null,
            "grid_template_areas": null,
            "grid_template_columns": null,
            "grid_template_rows": null,
            "height": null,
            "justify_content": null,
            "justify_items": null,
            "left": null,
            "margin": null,
            "max_height": null,
            "max_width": null,
            "min_height": null,
            "min_width": null,
            "object_fit": null,
            "object_position": null,
            "order": null,
            "overflow": null,
            "overflow_x": null,
            "overflow_y": null,
            "padding": null,
            "right": null,
            "top": null,
            "visibility": null,
            "width": null
          }
        },
        "38c02d023cf4445285b48f0f19d7b1bd": {
          "model_module": "@jupyter-widgets/controls",
          "model_name": "DescriptionStyleModel",
          "model_module_version": "1.5.0",
          "state": {
            "_model_module": "@jupyter-widgets/controls",
            "_model_module_version": "1.5.0",
            "_model_name": "DescriptionStyleModel",
            "_view_count": null,
            "_view_module": "@jupyter-widgets/base",
            "_view_module_version": "1.2.0",
            "_view_name": "StyleView",
            "description_width": ""
          }
        },
        "0e3970a56c7c4081af486dc19205bf96": {
          "model_module": "@jupyter-widgets/controls",
          "model_name": "HBoxModel",
          "model_module_version": "1.5.0",
          "state": {
            "_dom_classes": [],
            "_model_module": "@jupyter-widgets/controls",
            "_model_module_version": "1.5.0",
            "_model_name": "HBoxModel",
            "_view_count": null,
            "_view_module": "@jupyter-widgets/controls",
            "_view_module_version": "1.5.0",
            "_view_name": "HBoxView",
            "box_style": "",
            "children": [
              "IPY_MODEL_4e3c4b4e970746ce85c3285232089a33",
              "IPY_MODEL_2ffd0ac0da304f8693c77c70d711238b",
              "IPY_MODEL_64897cef52774cf4817e678a586176b8"
            ],
            "layout": "IPY_MODEL_75d951f3e27442d3872561b90674bfc0"
          }
        },
        "4e3c4b4e970746ce85c3285232089a33": {
          "model_module": "@jupyter-widgets/controls",
          "model_name": "HTMLModel",
          "model_module_version": "1.5.0",
          "state": {
            "_dom_classes": [],
            "_model_module": "@jupyter-widgets/controls",
            "_model_module_version": "1.5.0",
            "_model_name": "HTMLModel",
            "_view_count": null,
            "_view_module": "@jupyter-widgets/controls",
            "_view_module_version": "1.5.0",
            "_view_name": "HTMLView",
            "description": "",
            "description_tooltip": null,
            "layout": "IPY_MODEL_b13d8184672d436f98199f42ad3fec27",
            "placeholder": "​",
            "style": "IPY_MODEL_886ac379ad7646e6bea71173f9abcd6b",
            "value": "special_tokens_map.json: 100%"
          }
        },
        "2ffd0ac0da304f8693c77c70d711238b": {
          "model_module": "@jupyter-widgets/controls",
          "model_name": "FloatProgressModel",
          "model_module_version": "1.5.0",
          "state": {
            "_dom_classes": [],
            "_model_module": "@jupyter-widgets/controls",
            "_model_module_version": "1.5.0",
            "_model_name": "FloatProgressModel",
            "_view_count": null,
            "_view_module": "@jupyter-widgets/controls",
            "_view_module_version": "1.5.0",
            "_view_name": "ProgressView",
            "bar_style": "success",
            "description": "",
            "description_tooltip": null,
            "layout": "IPY_MODEL_003a45dd72d548179eed7497ce7a8836",
            "max": 112,
            "min": 0,
            "orientation": "horizontal",
            "style": "IPY_MODEL_819277b8ae394c11af758840987c0fb8",
            "value": 112
          }
        },
        "64897cef52774cf4817e678a586176b8": {
          "model_module": "@jupyter-widgets/controls",
          "model_name": "HTMLModel",
          "model_module_version": "1.5.0",
          "state": {
            "_dom_classes": [],
            "_model_module": "@jupyter-widgets/controls",
            "_model_module_version": "1.5.0",
            "_model_name": "HTMLModel",
            "_view_count": null,
            "_view_module": "@jupyter-widgets/controls",
            "_view_module_version": "1.5.0",
            "_view_name": "HTMLView",
            "description": "",
            "description_tooltip": null,
            "layout": "IPY_MODEL_acee99ee4a1b4dc38c55ed8fc6d19d75",
            "placeholder": "​",
            "style": "IPY_MODEL_ac3d763dcf2049cdb0d3fd76d4734424",
            "value": " 112/112 [00:00&lt;00:00, 6.44kB/s]"
          }
        },
        "75d951f3e27442d3872561b90674bfc0": {
          "model_module": "@jupyter-widgets/base",
          "model_name": "LayoutModel",
          "model_module_version": "1.2.0",
          "state": {
            "_model_module": "@jupyter-widgets/base",
            "_model_module_version": "1.2.0",
            "_model_name": "LayoutModel",
            "_view_count": null,
            "_view_module": "@jupyter-widgets/base",
            "_view_module_version": "1.2.0",
            "_view_name": "LayoutView",
            "align_content": null,
            "align_items": null,
            "align_self": null,
            "border": null,
            "bottom": null,
            "display": null,
            "flex": null,
            "flex_flow": null,
            "grid_area": null,
            "grid_auto_columns": null,
            "grid_auto_flow": null,
            "grid_auto_rows": null,
            "grid_column": null,
            "grid_gap": null,
            "grid_row": null,
            "grid_template_areas": null,
            "grid_template_columns": null,
            "grid_template_rows": null,
            "height": null,
            "justify_content": null,
            "justify_items": null,
            "left": null,
            "margin": null,
            "max_height": null,
            "max_width": null,
            "min_height": null,
            "min_width": null,
            "object_fit": null,
            "object_position": null,
            "order": null,
            "overflow": null,
            "overflow_x": null,
            "overflow_y": null,
            "padding": null,
            "right": null,
            "top": null,
            "visibility": null,
            "width": null
          }
        },
        "b13d8184672d436f98199f42ad3fec27": {
          "model_module": "@jupyter-widgets/base",
          "model_name": "LayoutModel",
          "model_module_version": "1.2.0",
          "state": {
            "_model_module": "@jupyter-widgets/base",
            "_model_module_version": "1.2.0",
            "_model_name": "LayoutModel",
            "_view_count": null,
            "_view_module": "@jupyter-widgets/base",
            "_view_module_version": "1.2.0",
            "_view_name": "LayoutView",
            "align_content": null,
            "align_items": null,
            "align_self": null,
            "border": null,
            "bottom": null,
            "display": null,
            "flex": null,
            "flex_flow": null,
            "grid_area": null,
            "grid_auto_columns": null,
            "grid_auto_flow": null,
            "grid_auto_rows": null,
            "grid_column": null,
            "grid_gap": null,
            "grid_row": null,
            "grid_template_areas": null,
            "grid_template_columns": null,
            "grid_template_rows": null,
            "height": null,
            "justify_content": null,
            "justify_items": null,
            "left": null,
            "margin": null,
            "max_height": null,
            "max_width": null,
            "min_height": null,
            "min_width": null,
            "object_fit": null,
            "object_position": null,
            "order": null,
            "overflow": null,
            "overflow_x": null,
            "overflow_y": null,
            "padding": null,
            "right": null,
            "top": null,
            "visibility": null,
            "width": null
          }
        },
        "886ac379ad7646e6bea71173f9abcd6b": {
          "model_module": "@jupyter-widgets/controls",
          "model_name": "DescriptionStyleModel",
          "model_module_version": "1.5.0",
          "state": {
            "_model_module": "@jupyter-widgets/controls",
            "_model_module_version": "1.5.0",
            "_model_name": "DescriptionStyleModel",
            "_view_count": null,
            "_view_module": "@jupyter-widgets/base",
            "_view_module_version": "1.2.0",
            "_view_name": "StyleView",
            "description_width": ""
          }
        },
        "003a45dd72d548179eed7497ce7a8836": {
          "model_module": "@jupyter-widgets/base",
          "model_name": "LayoutModel",
          "model_module_version": "1.2.0",
          "state": {
            "_model_module": "@jupyter-widgets/base",
            "_model_module_version": "1.2.0",
            "_model_name": "LayoutModel",
            "_view_count": null,
            "_view_module": "@jupyter-widgets/base",
            "_view_module_version": "1.2.0",
            "_view_name": "LayoutView",
            "align_content": null,
            "align_items": null,
            "align_self": null,
            "border": null,
            "bottom": null,
            "display": null,
            "flex": null,
            "flex_flow": null,
            "grid_area": null,
            "grid_auto_columns": null,
            "grid_auto_flow": null,
            "grid_auto_rows": null,
            "grid_column": null,
            "grid_gap": null,
            "grid_row": null,
            "grid_template_areas": null,
            "grid_template_columns": null,
            "grid_template_rows": null,
            "height": null,
            "justify_content": null,
            "justify_items": null,
            "left": null,
            "margin": null,
            "max_height": null,
            "max_width": null,
            "min_height": null,
            "min_width": null,
            "object_fit": null,
            "object_position": null,
            "order": null,
            "overflow": null,
            "overflow_x": null,
            "overflow_y": null,
            "padding": null,
            "right": null,
            "top": null,
            "visibility": null,
            "width": null
          }
        },
        "819277b8ae394c11af758840987c0fb8": {
          "model_module": "@jupyter-widgets/controls",
          "model_name": "ProgressStyleModel",
          "model_module_version": "1.5.0",
          "state": {
            "_model_module": "@jupyter-widgets/controls",
            "_model_module_version": "1.5.0",
            "_model_name": "ProgressStyleModel",
            "_view_count": null,
            "_view_module": "@jupyter-widgets/base",
            "_view_module_version": "1.2.0",
            "_view_name": "StyleView",
            "bar_color": null,
            "description_width": ""
          }
        },
        "acee99ee4a1b4dc38c55ed8fc6d19d75": {
          "model_module": "@jupyter-widgets/base",
          "model_name": "LayoutModel",
          "model_module_version": "1.2.0",
          "state": {
            "_model_module": "@jupyter-widgets/base",
            "_model_module_version": "1.2.0",
            "_model_name": "LayoutModel",
            "_view_count": null,
            "_view_module": "@jupyter-widgets/base",
            "_view_module_version": "1.2.0",
            "_view_name": "LayoutView",
            "align_content": null,
            "align_items": null,
            "align_self": null,
            "border": null,
            "bottom": null,
            "display": null,
            "flex": null,
            "flex_flow": null,
            "grid_area": null,
            "grid_auto_columns": null,
            "grid_auto_flow": null,
            "grid_auto_rows": null,
            "grid_column": null,
            "grid_gap": null,
            "grid_row": null,
            "grid_template_areas": null,
            "grid_template_columns": null,
            "grid_template_rows": null,
            "height": null,
            "justify_content": null,
            "justify_items": null,
            "left": null,
            "margin": null,
            "max_height": null,
            "max_width": null,
            "min_height": null,
            "min_width": null,
            "object_fit": null,
            "object_position": null,
            "order": null,
            "overflow": null,
            "overflow_x": null,
            "overflow_y": null,
            "padding": null,
            "right": null,
            "top": null,
            "visibility": null,
            "width": null
          }
        },
        "ac3d763dcf2049cdb0d3fd76d4734424": {
          "model_module": "@jupyter-widgets/controls",
          "model_name": "DescriptionStyleModel",
          "model_module_version": "1.5.0",
          "state": {
            "_model_module": "@jupyter-widgets/controls",
            "_model_module_version": "1.5.0",
            "_model_name": "DescriptionStyleModel",
            "_view_count": null,
            "_view_module": "@jupyter-widgets/base",
            "_view_module_version": "1.2.0",
            "_view_name": "StyleView",
            "description_width": ""
          }
        }
      }
    }
  },
  "cells": [
    {
      "cell_type": "markdown",
      "source": [
        "**Задача**: NER. **Язык**: русский. **Датасет**: https://huggingface.co/datasets/wikiann/viewer/ru"
      ],
      "metadata": {
        "id": "x3MsXAU6Eu1u"
      }
    },
    {
      "cell_type": "markdown",
      "source": [
        "#Установка пакетов и импорт библиотек"
      ],
      "metadata": {
        "id": "ZdEKyzpMEbB6"
      }
    },
    {
      "cell_type": "code",
      "source": [
        "!pip install transformers==4.28.1\n",
        "!pip install datasets\n",
        "!pip install seqeval\n",
        "!pip install -U sacremoses"
      ],
      "metadata": {
        "id": "YlttYvGw1Pv_",
        "colab": {
          "base_uri": "https://localhost:8080/"
        },
        "outputId": "08b3e90a-5e6c-4b54-94f5-4a4a8e5f9ba1"
      },
      "execution_count": null,
      "outputs": [
        {
          "output_type": "stream",
          "name": "stdout",
          "text": [
            "Requirement already satisfied: transformers==4.28.1 in /usr/local/lib/python3.10/dist-packages (4.28.1)\n",
            "Requirement already satisfied: filelock in /usr/local/lib/python3.10/dist-packages (from transformers==4.28.1) (3.14.0)\n",
            "Requirement already satisfied: huggingface-hub<1.0,>=0.11.0 in /usr/local/lib/python3.10/dist-packages (from transformers==4.28.1) (0.23.0)\n",
            "Requirement already satisfied: numpy>=1.17 in /usr/local/lib/python3.10/dist-packages (from transformers==4.28.1) (1.25.2)\n",
            "Requirement already satisfied: packaging>=20.0 in /usr/local/lib/python3.10/dist-packages (from transformers==4.28.1) (24.0)\n",
            "Requirement already satisfied: pyyaml>=5.1 in /usr/local/lib/python3.10/dist-packages (from transformers==4.28.1) (6.0.1)\n",
            "Requirement already satisfied: regex!=2019.12.17 in /usr/local/lib/python3.10/dist-packages (from transformers==4.28.1) (2023.12.25)\n",
            "Requirement already satisfied: requests in /usr/local/lib/python3.10/dist-packages (from transformers==4.28.1) (2.31.0)\n",
            "Requirement already satisfied: tokenizers!=0.11.3,<0.14,>=0.11.1 in /usr/local/lib/python3.10/dist-packages (from transformers==4.28.1) (0.13.3)\n",
            "Requirement already satisfied: tqdm>=4.27 in /usr/local/lib/python3.10/dist-packages (from transformers==4.28.1) (4.66.4)\n",
            "Requirement already satisfied: fsspec>=2023.5.0 in /usr/local/lib/python3.10/dist-packages (from huggingface-hub<1.0,>=0.11.0->transformers==4.28.1) (2023.6.0)\n",
            "Requirement already satisfied: typing-extensions>=3.7.4.3 in /usr/local/lib/python3.10/dist-packages (from huggingface-hub<1.0,>=0.11.0->transformers==4.28.1) (4.11.0)\n",
            "Requirement already satisfied: charset-normalizer<4,>=2 in /usr/local/lib/python3.10/dist-packages (from requests->transformers==4.28.1) (3.3.2)\n",
            "Requirement already satisfied: idna<4,>=2.5 in /usr/local/lib/python3.10/dist-packages (from requests->transformers==4.28.1) (3.7)\n",
            "Requirement already satisfied: urllib3<3,>=1.21.1 in /usr/local/lib/python3.10/dist-packages (from requests->transformers==4.28.1) (2.0.7)\n",
            "Requirement already satisfied: certifi>=2017.4.17 in /usr/local/lib/python3.10/dist-packages (from requests->transformers==4.28.1) (2024.2.2)\n",
            "Requirement already satisfied: datasets in /usr/local/lib/python3.10/dist-packages (2.19.1)\n",
            "Requirement already satisfied: filelock in /usr/local/lib/python3.10/dist-packages (from datasets) (3.14.0)\n",
            "Requirement already satisfied: numpy>=1.17 in /usr/local/lib/python3.10/dist-packages (from datasets) (1.25.2)\n",
            "Requirement already satisfied: pyarrow>=12.0.0 in /usr/local/lib/python3.10/dist-packages (from datasets) (14.0.2)\n",
            "Requirement already satisfied: pyarrow-hotfix in /usr/local/lib/python3.10/dist-packages (from datasets) (0.6)\n",
            "Requirement already satisfied: dill<0.3.9,>=0.3.0 in /usr/local/lib/python3.10/dist-packages (from datasets) (0.3.8)\n",
            "Requirement already satisfied: pandas in /usr/local/lib/python3.10/dist-packages (from datasets) (2.0.3)\n",
            "Requirement already satisfied: requests>=2.19.0 in /usr/local/lib/python3.10/dist-packages (from datasets) (2.31.0)\n",
            "Requirement already satisfied: tqdm>=4.62.1 in /usr/local/lib/python3.10/dist-packages (from datasets) (4.66.4)\n",
            "Requirement already satisfied: xxhash in /usr/local/lib/python3.10/dist-packages (from datasets) (3.4.1)\n",
            "Requirement already satisfied: multiprocess in /usr/local/lib/python3.10/dist-packages (from datasets) (0.70.16)\n",
            "Requirement already satisfied: fsspec[http]<=2024.3.1,>=2023.1.0 in /usr/local/lib/python3.10/dist-packages (from datasets) (2023.6.0)\n",
            "Requirement already satisfied: aiohttp in /usr/local/lib/python3.10/dist-packages (from datasets) (3.9.5)\n",
            "Requirement already satisfied: huggingface-hub>=0.21.2 in /usr/local/lib/python3.10/dist-packages (from datasets) (0.23.0)\n",
            "Requirement already satisfied: packaging in /usr/local/lib/python3.10/dist-packages (from datasets) (24.0)\n",
            "Requirement already satisfied: pyyaml>=5.1 in /usr/local/lib/python3.10/dist-packages (from datasets) (6.0.1)\n",
            "Requirement already satisfied: aiosignal>=1.1.2 in /usr/local/lib/python3.10/dist-packages (from aiohttp->datasets) (1.3.1)\n",
            "Requirement already satisfied: attrs>=17.3.0 in /usr/local/lib/python3.10/dist-packages (from aiohttp->datasets) (23.2.0)\n",
            "Requirement already satisfied: frozenlist>=1.1.1 in /usr/local/lib/python3.10/dist-packages (from aiohttp->datasets) (1.4.1)\n",
            "Requirement already satisfied: multidict<7.0,>=4.5 in /usr/local/lib/python3.10/dist-packages (from aiohttp->datasets) (6.0.5)\n",
            "Requirement already satisfied: yarl<2.0,>=1.0 in /usr/local/lib/python3.10/dist-packages (from aiohttp->datasets) (1.9.4)\n",
            "Requirement already satisfied: async-timeout<5.0,>=4.0 in /usr/local/lib/python3.10/dist-packages (from aiohttp->datasets) (4.0.3)\n",
            "Requirement already satisfied: typing-extensions>=3.7.4.3 in /usr/local/lib/python3.10/dist-packages (from huggingface-hub>=0.21.2->datasets) (4.11.0)\n",
            "Requirement already satisfied: charset-normalizer<4,>=2 in /usr/local/lib/python3.10/dist-packages (from requests>=2.19.0->datasets) (3.3.2)\n",
            "Requirement already satisfied: idna<4,>=2.5 in /usr/local/lib/python3.10/dist-packages (from requests>=2.19.0->datasets) (3.7)\n",
            "Requirement already satisfied: urllib3<3,>=1.21.1 in /usr/local/lib/python3.10/dist-packages (from requests>=2.19.0->datasets) (2.0.7)\n",
            "Requirement already satisfied: certifi>=2017.4.17 in /usr/local/lib/python3.10/dist-packages (from requests>=2.19.0->datasets) (2024.2.2)\n",
            "Requirement already satisfied: python-dateutil>=2.8.2 in /usr/local/lib/python3.10/dist-packages (from pandas->datasets) (2.8.2)\n",
            "Requirement already satisfied: pytz>=2020.1 in /usr/local/lib/python3.10/dist-packages (from pandas->datasets) (2023.4)\n",
            "Requirement already satisfied: tzdata>=2022.1 in /usr/local/lib/python3.10/dist-packages (from pandas->datasets) (2024.1)\n",
            "Requirement already satisfied: six>=1.5 in /usr/local/lib/python3.10/dist-packages (from python-dateutil>=2.8.2->pandas->datasets) (1.16.0)\n",
            "Requirement already satisfied: seqeval in /usr/local/lib/python3.10/dist-packages (1.2.2)\n",
            "Requirement already satisfied: numpy>=1.14.0 in /usr/local/lib/python3.10/dist-packages (from seqeval) (1.25.2)\n",
            "Requirement already satisfied: scikit-learn>=0.21.3 in /usr/local/lib/python3.10/dist-packages (from seqeval) (1.2.2)\n",
            "Requirement already satisfied: scipy>=1.3.2 in /usr/local/lib/python3.10/dist-packages (from scikit-learn>=0.21.3->seqeval) (1.11.4)\n",
            "Requirement already satisfied: joblib>=1.1.1 in /usr/local/lib/python3.10/dist-packages (from scikit-learn>=0.21.3->seqeval) (1.4.2)\n",
            "Requirement already satisfied: threadpoolctl>=2.0.0 in /usr/local/lib/python3.10/dist-packages (from scikit-learn>=0.21.3->seqeval) (3.5.0)\n",
            "Collecting sacremoses\n",
            "  Downloading sacremoses-0.1.1-py3-none-any.whl (897 kB)\n",
            "\u001b[2K     \u001b[90m━━━━━━━━━━━━━━━━━━━━━━━━━━━━━━━━━━━━━━━━\u001b[0m \u001b[32m897.5/897.5 kB\u001b[0m \u001b[31m11.1 MB/s\u001b[0m eta \u001b[36m0:00:00\u001b[0m\n",
            "\u001b[?25hRequirement already satisfied: regex in /usr/local/lib/python3.10/dist-packages (from sacremoses) (2023.12.25)\n",
            "Requirement already satisfied: click in /usr/local/lib/python3.10/dist-packages (from sacremoses) (8.1.7)\n",
            "Requirement already satisfied: joblib in /usr/local/lib/python3.10/dist-packages (from sacremoses) (1.4.2)\n",
            "Requirement already satisfied: tqdm in /usr/local/lib/python3.10/dist-packages (from sacremoses) (4.66.4)\n",
            "Installing collected packages: sacremoses\n",
            "Successfully installed sacremoses-0.1.1\n"
          ]
        }
      ]
    },
    {
      "cell_type": "code",
      "source": [
        "from transformers import AutoTokenizer, TrainingArguments, Trainer, DataCollatorForTokenClassification, AutoModelForTokenClassification\n",
        "from transformers.optimization import AdamW\n",
        "from collections import Counter\n",
        "import numpy as np\n",
        "from torch.utils.data.dataset import Dataset\n",
        "import scipy\n",
        "from datasets import load_dataset, load_metric"
      ],
      "metadata": {
        "id": "uOZyI4dXjGwn"
      },
      "execution_count": null,
      "outputs": []
    },
    {
      "cell_type": "markdown",
      "source": [
        "#Загрузка и подготовка данных"
      ],
      "metadata": {
        "id": "GIXiI5zkEMOn"
      }
    },
    {
      "cell_type": "code",
      "source": [
        "dataset = load_dataset(\"wikiann\", \"ru\")"
      ],
      "metadata": {
        "colab": {
          "base_uri": "https://localhost:8080/",
          "height": 209,
          "referenced_widgets": [
            "ae80358a60854a96927c3b42024ab6be",
            "03fca74b05c3434eaa41a85ecfbdb3b3",
            "2f92550b988542c1805dc7d5156a9e47",
            "4c73b916b86843fcb8842085b90dbb8b",
            "31c17a2d9ecd4a249b94e2e516c01a36",
            "8a5fc9653e5146778fbea1d254812dd2",
            "726a8d52594740d4aea5b9c64719845f",
            "da08c2aeb30244a085b2657b498b6544",
            "7c172091816c473580fd4fd7266e30d6",
            "52a7a33f22254811b18bdb7b77994561",
            "951c00f3af5e4664906ed019e1823686",
            "7efc2de0691b4251bd52919df8a37ad3",
            "9c27a5d40c974a97aa12fe88c8337357",
            "0aada163e94d40c49d86f2c05967cc98",
            "d0ad505f0e2145ca9ac7841d20ca9672",
            "2c57179a294942809fd4037b98a765f4",
            "809971e0021f42b1beffaa5392af1060",
            "f63ba02a21454616be557f5d51a8d16a",
            "e0af0ed310a24b52a781be1d56fabef5",
            "3bcf1ca6081b4f02bdc922f81307460f",
            "b1cb63a0290e454e8757afd0d0193577",
            "678b1648e39d4460b406f9a3047b52ab",
            "6b06ed54508a4e2f9ee5bf7eb5422bee",
            "2141f230f30e4fec9a57e034e5d666e2",
            "63ef01a5145048ee8eefc56215427ae5",
            "fbe132f49ab84186a34ce889f2312472",
            "bec097ea9a4d40eabbf0f5875ed4fd61",
            "0ecf361f63094f0bb9a2015d6346e64e",
            "dd207c6766754141bc9dda6b1e7d4b75",
            "b3153c285f9845d08403baa88804eb4d",
            "39e4ab3b3a034fe597df5ae1759a578a",
            "194cb75bea6b48e78bc5a088a251b254",
            "690b8e0b23a14677bbdf2bcf1490fa64",
            "61cdb2231c8a4fb7947ae994ec5c6cc0",
            "ab2937b8f26b4acd9b479afe2f003a50",
            "5ad10fbea93a42fd936f311ce01fc115",
            "5397503c8c534d98963bcfdfa5f1c029",
            "68fc2537e6094e0a89404159ad8eb150",
            "983e59fdf2bb434eabca9f023d72b542",
            "121aec5a41a843dcb0e99708b8486f6d",
            "d194abfc95c14767a97a8b324c266d3f",
            "915a2b4afcc8423db23c79592e8b5586",
            "a193a410782f4153892378b4f98c8f70",
            "d026cfcee5994cebb8c1e493c8b69854",
            "e77cc47130f848df9b1d4e0f71646521",
            "c1cd7dcc84334989aad5c900ce700007",
            "4d904cfcbd314b15a599d38652b1d9c3",
            "0e6306d78da24d8ea21a5d801d73bf73",
            "54c97138e33145c7825e58d5e72233da",
            "b07a53ccc56a42a995e994897dd89fa4",
            "7d728a97bd314ebea31d9d5987f4b5a7",
            "fc6b44b6e80a483eb23bc0667302f4cc",
            "948af19ff8e946f39a8827b3a66f7097",
            "614fc35939ac4a3c82761846ec3fcd4d",
            "06db7185dae248f6bce6b6f6dc53bed5",
            "34db8b0ad3374fabb4ca0c3212c42fe3",
            "3fb9d80ac105410e85476196de253751",
            "24cec64ca3ab41759767432af39a4602",
            "6479b3b00c964ce39bafc6c13b83d2d6",
            "b5c5a552460141479ef722e7ce59c0ae",
            "fb9e28340dc044f8a6dd02dccbdab60b",
            "e5f4e6b81a904259b78ab234bd6ed682",
            "944863f525be4d59881ac4a76e7d3443",
            "d84e32d63ef54ae0bbd5365abb5f5eba",
            "8e5a8db747b54d68b33eb48fd9f63ada",
            "7b4ec64b120349138fe54abf8e7469cb"
          ]
        },
        "id": "JuUR9GhouO5Q",
        "outputId": "ec0ecdd2-d25f-47c6-a5c8-4af3b5c3bad3"
      },
      "execution_count": null,
      "outputs": [
        {
          "output_type": "display_data",
          "data": {
            "text/plain": [
              "Downloading data:   0%|          | 0.00/809k [00:00<?, ?B/s]"
            ],
            "application/vnd.jupyter.widget-view+json": {
              "version_major": 2,
              "version_minor": 0,
              "model_id": "ae80358a60854a96927c3b42024ab6be"
            }
          },
          "metadata": {}
        },
        {
          "output_type": "display_data",
          "data": {
            "text/plain": [
              "Downloading data:   0%|          | 0.00/816k [00:00<?, ?B/s]"
            ],
            "application/vnd.jupyter.widget-view+json": {
              "version_major": 2,
              "version_minor": 0,
              "model_id": "7efc2de0691b4251bd52919df8a37ad3"
            }
          },
          "metadata": {}
        },
        {
          "output_type": "display_data",
          "data": {
            "text/plain": [
              "Downloading data:   0%|          | 0.00/1.63M [00:00<?, ?B/s]"
            ],
            "application/vnd.jupyter.widget-view+json": {
              "version_major": 2,
              "version_minor": 0,
              "model_id": "6b06ed54508a4e2f9ee5bf7eb5422bee"
            }
          },
          "metadata": {}
        },
        {
          "output_type": "display_data",
          "data": {
            "text/plain": [
              "Generating validation split:   0%|          | 0/10000 [00:00<?, ? examples/s]"
            ],
            "application/vnd.jupyter.widget-view+json": {
              "version_major": 2,
              "version_minor": 0,
              "model_id": "61cdb2231c8a4fb7947ae994ec5c6cc0"
            }
          },
          "metadata": {}
        },
        {
          "output_type": "display_data",
          "data": {
            "text/plain": [
              "Generating test split:   0%|          | 0/10000 [00:00<?, ? examples/s]"
            ],
            "application/vnd.jupyter.widget-view+json": {
              "version_major": 2,
              "version_minor": 0,
              "model_id": "e77cc47130f848df9b1d4e0f71646521"
            }
          },
          "metadata": {}
        },
        {
          "output_type": "display_data",
          "data": {
            "text/plain": [
              "Generating train split:   0%|          | 0/20000 [00:00<?, ? examples/s]"
            ],
            "application/vnd.jupyter.widget-view+json": {
              "version_major": 2,
              "version_minor": 0,
              "model_id": "34db8b0ad3374fabb4ca0c3212c42fe3"
            }
          },
          "metadata": {}
        }
      ]
    },
    {
      "cell_type": "code",
      "source": [
        "ner_tags = ['O', 'B-PER', 'I-PER', 'B-ORG', 'I-ORG', 'B-LOC', 'I-LOC']\n",
        "\n",
        "train_data = [{\"words\": elem[\"tokens\"], \"labels\": [ner_tags[index] for index in elem[\"ner_tags\"]]} for elem in dataset[\"train\"]]\n",
        "dev_data = [{\"words\": elem[\"tokens\"], \"labels\": [ner_tags[index] for index in elem[\"ner_tags\"]]} for elem in dataset[\"validation\"]]\n",
        "test_data = [{\"words\": elem[\"tokens\"], \"labels\": [ner_tags[index] for index in elem[\"ner_tags\"]]} for elem in dataset[\"test\"]]"
      ],
      "metadata": {
        "id": "ROACXGMK1lKA"
      },
      "execution_count": null,
      "outputs": []
    },
    {
      "cell_type": "code",
      "source": [
        "tokenizer = AutoTokenizer.from_pretrained(\"DeepPavlov/rubert-base-cased\", use_fast=True, add_prefix_space=True)"
      ],
      "metadata": {
        "colab": {
          "base_uri": "https://localhost:8080/",
          "height": 200,
          "referenced_widgets": [
            "cf8aef72c43547fda16f2c27d18d7701",
            "b3503ed85bc645b7a2cfb50966bf4514",
            "34c4848495ac4436ac4df0710d300040",
            "8ffd9848abbc4cb8b501653edc59a2ec",
            "7465169d100b4873a2c57577dccb6305",
            "1bc39c2cd7384480a77fac8fd57f8930",
            "6e209cc8f86243b29edde60e11ec5cec",
            "5d5609f1533f46c1b33a88859c7c1c15",
            "7d1ad06e06444c9196ecc423e3b9898a",
            "18b00f93f41b4e88b5202210619cacd1",
            "67040542dfa2427a973c826cd423f16e",
            "17b74e9913274b08b3e64a7a16f0258d",
            "44ea0865a98a444baeb8d7351983306c",
            "3bcd11db2db34fffbcbd23c7b3869f17",
            "ca49029e8e694992a2498a357156672f",
            "fce6cc454c074e8590816dbf26f09c4d",
            "963a65e1b1bc4d99a5d3f30eac353bc6",
            "2e83ec52de164aeab7ffafe99e798a10",
            "58e3bc2e750d4a15a6e6938e7f2acefe",
            "db75cedf9a3d4119b8e9af4e8b860aa0",
            "c9a9806e81a64f60b83bb69cd9898418",
            "73668d7394814f1db38079ec5f191ff4",
            "82ef7376d5084981991ed85e6e74c980",
            "07472a3a93894bb2ba5eb4f4ab61d4f2",
            "fc0e5053874b4ce79c0f348ac91504c6",
            "c83770aaa7f4441abaf3bf93fd8a2371",
            "77fb4cf14928409b8ca6c113c8841557",
            "be3f0d9ca66d48c1a35a11acd9c03d8a",
            "63ecfc48a06e4ba6a55a3d29e3b90252",
            "e9f6364c1250491e8a4fd8c4cd64a366",
            "e1a2d1e6add64ad0bc144f4ec9c4d311",
            "969a0345508a4b5384e301849c6e6b4f",
            "38c02d023cf4445285b48f0f19d7b1bd",
            "0e3970a56c7c4081af486dc19205bf96",
            "4e3c4b4e970746ce85c3285232089a33",
            "2ffd0ac0da304f8693c77c70d711238b",
            "64897cef52774cf4817e678a586176b8",
            "75d951f3e27442d3872561b90674bfc0",
            "b13d8184672d436f98199f42ad3fec27",
            "886ac379ad7646e6bea71173f9abcd6b",
            "003a45dd72d548179eed7497ce7a8836",
            "819277b8ae394c11af758840987c0fb8",
            "acee99ee4a1b4dc38c55ed8fc6d19d75",
            "ac3d763dcf2049cdb0d3fd76d4734424"
          ]
        },
        "id": "gUhJ6yUcjpK8",
        "outputId": "60ea1372-65e1-4944-f360-f2d0e2858e10"
      },
      "execution_count": null,
      "outputs": [
        {
          "output_type": "stream",
          "name": "stderr",
          "text": [
            "/usr/local/lib/python3.10/dist-packages/huggingface_hub/file_download.py:1132: FutureWarning: `resume_download` is deprecated and will be removed in version 1.0.0. Downloads always resume when possible. If you want to force a new download, use `force_download=True`.\n",
            "  warnings.warn(\n"
          ]
        },
        {
          "output_type": "display_data",
          "data": {
            "text/plain": [
              "tokenizer_config.json:   0%|          | 0.00/24.0 [00:00<?, ?B/s]"
            ],
            "application/vnd.jupyter.widget-view+json": {
              "version_major": 2,
              "version_minor": 0,
              "model_id": "cf8aef72c43547fda16f2c27d18d7701"
            }
          },
          "metadata": {}
        },
        {
          "output_type": "display_data",
          "data": {
            "text/plain": [
              "config.json:   0%|          | 0.00/642 [00:00<?, ?B/s]"
            ],
            "application/vnd.jupyter.widget-view+json": {
              "version_major": 2,
              "version_minor": 0,
              "model_id": "17b74e9913274b08b3e64a7a16f0258d"
            }
          },
          "metadata": {}
        },
        {
          "output_type": "display_data",
          "data": {
            "text/plain": [
              "vocab.txt:   0%|          | 0.00/1.65M [00:00<?, ?B/s]"
            ],
            "application/vnd.jupyter.widget-view+json": {
              "version_major": 2,
              "version_minor": 0,
              "model_id": "82ef7376d5084981991ed85e6e74c980"
            }
          },
          "metadata": {}
        },
        {
          "output_type": "display_data",
          "data": {
            "text/plain": [
              "special_tokens_map.json:   0%|          | 0.00/112 [00:00<?, ?B/s]"
            ],
            "application/vnd.jupyter.widget-view+json": {
              "version_major": 2,
              "version_minor": 0,
              "model_id": "0e3970a56c7c4081af486dc19205bf96"
            }
          },
          "metadata": {}
        }
      ]
    },
    {
      "cell_type": "code",
      "source": [
        "def make_subtoken_mask(mask, mode=\"first\", has_cls=True, has_eos=True):\n",
        "    if has_cls:\n",
        "        mask = mask[1:]\n",
        "    if has_eos:\n",
        "        mask = mask[:-1]\n",
        "    is_word = list((first != second) for first, second in zip(mask[1:], mask[:-1]))\n",
        "    is_word = ([True] + is_word) if mode == \"first\" else (is_word+[True])\n",
        "    if has_cls:\n",
        "        is_word = [False] + is_word\n",
        "    if has_eos:\n",
        "        is_word.append(False)\n",
        "    return is_word"
      ],
      "metadata": {
        "id": "n6p3QWvM1-bo"
      },
      "execution_count": null,
      "outputs": []
    },
    {
      "cell_type": "code",
      "source": [
        "class UDDataset(Dataset):\n",
        "\n",
        "    def __init__(self, data, tokenizer, min_count=3, tags=None, subtoken_mode=\"first\"):\n",
        "        self.data = data\n",
        "        self.tokenizer = tokenizer\n",
        "        if tags is None:\n",
        "            tag_counts = Counter([tag for elem in data for tag in elem[\"labels\"]])\n",
        "            self.tags_ = [\"<PAD>\", \"<UNK>\"] + [x for x, count in tag_counts.items() if count >= min_count]\n",
        "        else:\n",
        "            self.tags_ = tags\n",
        "        self.tag_indexes_ = {tag: i for i, tag in enumerate(self.tags_)}\n",
        "        self.unk_index = 1\n",
        "        self.ignore_index = -100\n",
        "        self.subtoken_mode = subtoken_mode\n",
        "\n",
        "    def __len__(self):\n",
        "        return len(self.data)\n",
        "\n",
        "    def __getitem__(self, index):\n",
        "        item = self.data[index]\n",
        "        tokenization = self.tokenizer(item[\"words\"], is_split_into_words=True)\n",
        "        last_subtoken_mask = make_subtoken_mask(tokenization.word_ids(), mode=self.subtoken_mode)\n",
        "        answer = {\"input_ids\": tokenization[\"input_ids\"], \"mask\": last_subtoken_mask}\n",
        "        if \"labels\" in item:\n",
        "            labels = [self.tag_indexes_.get(tag, self.unk_index) for tag in item[\"labels\"]]\n",
        "            zero_labels = np.array([self.ignore_index] * len(tokenization[\"input_ids\"]), dtype=int)\n",
        "            zero_labels[last_subtoken_mask] = labels\n",
        "            answer[\"labels\"] = zero_labels\n",
        "        return answer"
      ],
      "metadata": {
        "id": "ou8b2nIP2jjU"
      },
      "execution_count": null,
      "outputs": []
    },
    {
      "cell_type": "code",
      "source": [
        "train_dataset = UDDataset(train_data, tokenizer)"
      ],
      "metadata": {
        "id": "2q6vBq4f2nDZ"
      },
      "execution_count": null,
      "outputs": []
    },
    {
      "cell_type": "markdown",
      "source": [
        "#Обучение"
      ],
      "metadata": {
        "id": "IoZD3KqsD0-m"
      }
    },
    {
      "cell_type": "code",
      "source": [
        "class NERMetricScorer:\n",
        "\n",
        "    def __init__(self, names):\n",
        "        self.names = names\n",
        "        self.metric = load_metric(\"seqeval\")\n",
        "\n",
        "    def compute_metrics(self, eval_pred):\n",
        "        logits, labels = eval_pred\n",
        "        pred_labels = np.argmax(logits, axis=-1)\n",
        "        word_labels = [\n",
        "            [self.names[index] for index in sent_labels if index != -100] for sent_labels in labels\n",
        "        ]\n",
        "        pred_word_labels = [\n",
        "            [self.names[pred_index] for pred_index, index in zip(pred_sent_labels, sent_labels) if index != -100]\n",
        "            for pred_sent_labels, sent_labels in zip(pred_labels, labels)\n",
        "        ]\n",
        "        results = self.metric.compute(references=word_labels, predictions=pred_word_labels)\n",
        "        answer = dict()\n",
        "        print(results)\n",
        "        for key, value in results.items():\n",
        "            if isinstance(value, dict) and \"f1\" in value:\n",
        "                answer[f\"{key}_f1\"] = value[\"f1\"]\n",
        "            elif key.startswith(\"overall_\"):\n",
        "                answer[key[8:].title()] = value\n",
        "        return answer\n",
        "\n",
        "model = AutoModelForTokenClassification.from_pretrained(\"DeepPavlov/rubert-base-cased\", num_labels=len(train_dataset.tags_))\n",
        "\n",
        "val_dataset = UDDataset(dev_data, tokenizer, tags=train_dataset.tags_)\n",
        "optimizer = AdamW(model.parameters(), lr=1e-5, weight_decay=0.01)\n",
        "training_args = TrainingArguments(\n",
        "    output_dir=\"trainer_logs\", evaluation_strategy=\"steps\", save_strategy='steps',\n",
        "    logging_strategy=\"steps\", save_total_limit=2,\n",
        "    num_train_epochs=2, eval_steps=500, disable_tqdm=False,\n",
        "    metric_for_best_model='F1',\n",
        "    warmup_ratio=0.1\n",
        ")\n",
        "trainer = Trainer(\n",
        "    model=model,\n",
        "    optimizers=(optimizer,None),\n",
        "    args=training_args,\n",
        "    data_collator=DataCollatorForTokenClassification(tokenizer=tokenizer),\n",
        "    train_dataset=train_dataset,\n",
        "    eval_dataset=val_dataset,\n",
        "    compute_metrics=NERMetricScorer(train_dataset.tags_).compute_metrics)\n",
        "trainer.train()"
      ],
      "metadata": {
        "id": "tiE_PMuN2ySy",
        "colab": {
          "base_uri": "https://localhost:8080/",
          "height": 842
        },
        "outputId": "2742ddf4-4321-4454-e3fe-3dfc0f9f91c0"
      },
      "execution_count": null,
      "outputs": [
        {
          "output_type": "stream",
          "name": "stderr",
          "text": [
            "/usr/local/lib/python3.10/dist-packages/huggingface_hub/file_download.py:1132: FutureWarning: `resume_download` is deprecated and will be removed in version 1.0.0. Downloads always resume when possible. If you want to force a new download, use `force_download=True`.\n",
            "  warnings.warn(\n",
            "Some weights of the model checkpoint at DeepPavlov/rubert-base-cased were not used when initializing BertForTokenClassification: ['cls.predictions.transform.dense.bias', 'cls.seq_relationship.weight', 'cls.seq_relationship.bias', 'cls.predictions.decoder.weight', 'cls.predictions.bias', 'cls.predictions.transform.LayerNorm.bias', 'cls.predictions.transform.LayerNorm.weight', 'cls.predictions.transform.dense.weight', 'cls.predictions.decoder.bias']\n",
            "- This IS expected if you are initializing BertForTokenClassification from the checkpoint of a model trained on another task or with another architecture (e.g. initializing a BertForSequenceClassification model from a BertForPreTraining model).\n",
            "- This IS NOT expected if you are initializing BertForTokenClassification from the checkpoint of a model that you expect to be exactly identical (initializing a BertForSequenceClassification model from a BertForSequenceClassification model).\n",
            "Some weights of BertForTokenClassification were not initialized from the model checkpoint at DeepPavlov/rubert-base-cased and are newly initialized: ['classifier.bias', 'classifier.weight']\n",
            "You should probably TRAIN this model on a down-stream task to be able to use it for predictions and inference.\n",
            "/usr/local/lib/python3.10/dist-packages/transformers/optimization.py:391: FutureWarning: This implementation of AdamW is deprecated and will be removed in a future version. Use the PyTorch implementation torch.optim.AdamW instead, or set `no_deprecation_warning=True` to disable this warning\n",
            "  warnings.warn(\n",
            "/usr/local/lib/python3.10/dist-packages/datasets/load.py:759: FutureWarning: The repository for seqeval contains custom code which must be executed to correctly load the metric. You can inspect the repository content at https://raw.githubusercontent.com/huggingface/datasets/2.19.1/metrics/seqeval/seqeval.py\n",
            "You can avoid this message in future by passing the argument `trust_remote_code=True`.\n",
            "Passing `trust_remote_code=True` will be mandatory to load this metric from the next major release of `datasets`.\n",
            "  warnings.warn(\n"
          ]
        },
        {
          "output_type": "display_data",
          "data": {
            "text/plain": [
              "<IPython.core.display.HTML object>"
            ],
            "text/html": [
              "\n",
              "    <div>\n",
              "      \n",
              "      <progress value='5000' max='5000' style='width:300px; height:20px; vertical-align: middle;'></progress>\n",
              "      [5000/5000 15:53, Epoch 2/2]\n",
              "    </div>\n",
              "    <table border=\"1\" class=\"dataframe\">\n",
              "  <thead>\n",
              " <tr style=\"text-align: left;\">\n",
              "      <th>Step</th>\n",
              "      <th>Training Loss</th>\n",
              "      <th>Validation Loss</th>\n",
              "      <th>Loc F1</th>\n",
              "      <th>Org F1</th>\n",
              "      <th>Per F1</th>\n",
              "      <th>Precision</th>\n",
              "      <th>Recall</th>\n",
              "      <th>F1</th>\n",
              "      <th>Accuracy</th>\n",
              "    </tr>\n",
              "  </thead>\n",
              "  <tbody>\n",
              "    <tr>\n",
              "      <td>500</td>\n",
              "      <td>0.984800</td>\n",
              "      <td>0.275895</td>\n",
              "      <td>0.772463</td>\n",
              "      <td>0.682852</td>\n",
              "      <td>0.872096</td>\n",
              "      <td>0.727886</td>\n",
              "      <td>0.821956</td>\n",
              "      <td>0.772066</td>\n",
              "      <td>0.923064</td>\n",
              "    </tr>\n",
              "    <tr>\n",
              "      <td>1000</td>\n",
              "      <td>0.242200</td>\n",
              "      <td>0.194082</td>\n",
              "      <td>0.875635</td>\n",
              "      <td>0.773065</td>\n",
              "      <td>0.939049</td>\n",
              "      <td>0.849590</td>\n",
              "      <td>0.872872</td>\n",
              "      <td>0.861073</td>\n",
              "      <td>0.949217</td>\n",
              "    </tr>\n",
              "    <tr>\n",
              "      <td>1500</td>\n",
              "      <td>0.197300</td>\n",
              "      <td>0.190136</td>\n",
              "      <td>0.882341</td>\n",
              "      <td>0.781977</td>\n",
              "      <td>0.947427</td>\n",
              "      <td>0.847697</td>\n",
              "      <td>0.890790</td>\n",
              "      <td>0.868709</td>\n",
              "      <td>0.951735</td>\n",
              "    </tr>\n",
              "    <tr>\n",
              "      <td>2000</td>\n",
              "      <td>0.194700</td>\n",
              "      <td>0.167016</td>\n",
              "      <td>0.904110</td>\n",
              "      <td>0.823603</td>\n",
              "      <td>0.956329</td>\n",
              "      <td>0.893341</td>\n",
              "      <td>0.892979</td>\n",
              "      <td>0.893160</td>\n",
              "      <td>0.959476</td>\n",
              "    </tr>\n",
              "    <tr>\n",
              "      <td>2500</td>\n",
              "      <td>0.179200</td>\n",
              "      <td>0.158762</td>\n",
              "      <td>0.907922</td>\n",
              "      <td>0.831683</td>\n",
              "      <td>0.957934</td>\n",
              "      <td>0.896134</td>\n",
              "      <td>0.900276</td>\n",
              "      <td>0.898200</td>\n",
              "      <td>0.961752</td>\n",
              "    </tr>\n",
              "    <tr>\n",
              "      <td>3000</td>\n",
              "      <td>0.142300</td>\n",
              "      <td>0.162155</td>\n",
              "      <td>0.905335</td>\n",
              "      <td>0.826087</td>\n",
              "      <td>0.958753</td>\n",
              "      <td>0.889528</td>\n",
              "      <td>0.902222</td>\n",
              "      <td>0.895830</td>\n",
              "      <td>0.961368</td>\n",
              "    </tr>\n",
              "    <tr>\n",
              "      <td>3500</td>\n",
              "      <td>0.145200</td>\n",
              "      <td>0.165711</td>\n",
              "      <td>0.912135</td>\n",
              "      <td>0.833710</td>\n",
              "      <td>0.960155</td>\n",
              "      <td>0.895475</td>\n",
              "      <td>0.906437</td>\n",
              "      <td>0.900923</td>\n",
              "      <td>0.961567</td>\n",
              "    </tr>\n",
              "    <tr>\n",
              "      <td>4000</td>\n",
              "      <td>0.128200</td>\n",
              "      <td>0.160050</td>\n",
              "      <td>0.909468</td>\n",
              "      <td>0.838589</td>\n",
              "      <td>0.958655</td>\n",
              "      <td>0.893048</td>\n",
              "      <td>0.909194</td>\n",
              "      <td>0.901049</td>\n",
              "      <td>0.962891</td>\n",
              "    </tr>\n",
              "    <tr>\n",
              "      <td>4500</td>\n",
              "      <td>0.124800</td>\n",
              "      <td>0.155622</td>\n",
              "      <td>0.912223</td>\n",
              "      <td>0.842803</td>\n",
              "      <td>0.958138</td>\n",
              "      <td>0.896648</td>\n",
              "      <td>0.910897</td>\n",
              "      <td>0.903716</td>\n",
              "      <td>0.963673</td>\n",
              "    </tr>\n",
              "    <tr>\n",
              "      <td>5000</td>\n",
              "      <td>0.117600</td>\n",
              "      <td>0.157395</td>\n",
              "      <td>0.910547</td>\n",
              "      <td>0.841292</td>\n",
              "      <td>0.957491</td>\n",
              "      <td>0.893929</td>\n",
              "      <td>0.910816</td>\n",
              "      <td>0.902293</td>\n",
              "      <td>0.963047</td>\n",
              "    </tr>\n",
              "  </tbody>\n",
              "</table><p>"
            ]
          },
          "metadata": {}
        },
        {
          "output_type": "stream",
          "name": "stdout",
          "text": [
            "{'LOC': {'precision': 0.7284514243973703, 'recall': 0.8221352019785655, 'f1': 0.7724632068164214, 'number': 4852}, 'ORG': {'precision': 0.6333479789103691, 'recall': 0.7407502569373073, 'f1': 0.6828517290383704, 'number': 3892}, 'PER': {'precision': 0.8374358974358974, 'recall': 0.9097493036211699, 'f1': 0.8720961281708944, 'number': 3590}, 'overall_precision': 0.7278862722573234, 'overall_recall': 0.8219555699691908, 'overall_f1': 0.7720661031147666, 'overall_accuracy': 0.923063788613953}\n",
            "{'LOC': {'precision': 0.8813948632282314, 'recall': 0.8699505358615004, 'f1': 0.8756353075407115, 'number': 4852}, 'ORG': {'precision': 0.74712368168744, 'recall': 0.8008735868448099, 'f1': 0.7730654761904762, 'number': 3892}, 'PER': {'precision': 0.9237402317434654, 'recall': 0.954874651810585, 'f1': 0.9390494452814684, 'number': 3590}, 'overall_precision': 0.8495896464646465, 'overall_recall': 0.8728717366628831, 'overall_f1': 0.8610733423978245, 'overall_accuracy': 0.9492166934646196}\n",
            "{'LOC': {'precision': 0.8615475255302435, 'recall': 0.9041632316570486, 'f1': 0.8823411102172164, 'number': 4852}, 'ORG': {'precision': 0.7506499645473883, 'recall': 0.816032887975334, 'f1': 0.7819771020558907, 'number': 3892}, 'PER': {'precision': 0.9411764705882353, 'recall': 0.9537604456824512, 'f1': 0.9474266740453791, 'number': 3590}, 'overall_precision': 0.8476969369647404, 'overall_recall': 0.8907896870439436, 'overall_f1': 0.8687092310733346, 'overall_accuracy': 0.9517352267391397}\n",
            "{'LOC': {'precision': 0.9325301204819277, 'recall': 0.8773701566364386, 'f1': 0.9041095890410958, 'number': 4852}, 'ORG': {'precision': 0.7988408596957257, 'recall': 0.8499486125385406, 'f1': 0.8236026391136563, 'number': 3892}, 'PER': {'precision': 0.9519735026221363, 'recall': 0.9607242339832869, 'f1': 0.9563288506862608, 'number': 3590}, 'overall_precision': 0.8933409035607105, 'overall_recall': 0.8929787579049782, 'overall_f1': 0.8931597940234359, 'overall_accuracy': 0.9594758035828626}\n",
            "{'LOC': {'precision': 0.9136060100166945, 'recall': 0.902308326463314, 'f1': 0.9079220240564081, 'number': 4852}, 'ORG': {'precision': 0.8218765679879578, 'recall': 0.841726618705036, 'f1': 0.8316831683168318, 'number': 3892}, 'PER': {'precision': 0.9548851370052588, 'recall': 0.9610027855153204, 'f1': 0.9579341940857976, 'number': 3590}, 'overall_precision': 0.8961342910176742, 'overall_recall': 0.9002756607750932, 'overall_f1': 0.8982002022244693, 'overall_accuracy': 0.9617524438310163}\n",
            "{'LOC': {'precision': 0.903014148041829, 'recall': 0.9076669414674361, 'f1': 0.9053345667591737, 'number': 4852}, 'ORG': {'precision': 0.8175641670860594, 'recall': 0.8347893114080165, 'f1': 0.8260869565217391, 'number': 3892}, 'PER': {'precision': 0.9497130363487292, 'recall': 0.967966573816156, 'f1': 0.9587529314388192, 'number': 3590}, 'overall_precision': 0.8895283772981615, 'overall_recall': 0.9022215015404573, 'overall_f1': 0.895829979069393, 'overall_accuracy': 0.9613682607891404}\n",
            "{'LOC': {'precision': 0.9204616998950682, 'recall': 0.903957131079967, 'f1': 0.9121347613600915, 'number': 4852}, 'ORG': {'precision': 0.8143067123958844, 'recall': 0.8540596094552929, 'f1': 0.8337095560571859, 'number': 3892}, 'PER': {'precision': 0.9538207806487081, 'recall': 0.9665738161559888, 'f1': 0.9601549529607084, 'number': 3590}, 'overall_precision': 0.89547456948338, 'overall_recall': 0.9064374898654127, 'overall_f1': 0.9009226802046819, 'overall_accuracy': 0.9615674668108539}\n",
            "{'LOC': {'precision': 0.9152577749947819, 'recall': 0.9037510305028854, 'f1': 0.9094680078813646, 'number': 4852}, 'ORG': {'precision': 0.8173170731707317, 'recall': 0.8609969167523125, 'f1': 0.8385885885885886, 'number': 3892}, 'PER': {'precision': 0.9487179487179487, 'recall': 0.9688022284122563, 'f1': 0.9586549062844543, 'number': 3590}, 'overall_precision': 0.8930477024767062, 'overall_recall': 0.9091940976163451, 'overall_f1': 0.90104857177293, 'overall_accuracy': 0.9628907639550933}\n",
            "{'LOC': {'precision': 0.9077551020408163, 'recall': 0.9167353668590272, 'f1': 0.9122231337161608, 'number': 4852}, 'ORG': {'precision': 0.8357756442647802, 'recall': 0.8499486125385406, 'f1': 0.8428025477707007, 'number': 3892}, 'PER': {'precision': 0.9474400871459695, 'recall': 0.9690807799442896, 'f1': 0.9581382539245387, 'number': 3590}, 'overall_precision': 0.8966480446927374, 'overall_recall': 0.9108967082860386, 'overall_f1': 0.9037162162162162, 'overall_accuracy': 0.9636733590403961}\n",
            "{'LOC': {'precision': 0.9074718526100307, 'recall': 0.9136438582028029, 'f1': 0.9105473965287049, 'number': 4852}, 'ORG': {'precision': 0.8296277791656258, 'recall': 0.8532887975334018, 'f1': 0.8412919569347688, 'number': 3892}, 'PER': {'precision': 0.9459092144604512, 'recall': 0.9693593314763231, 'f1': 0.9574907139909203, 'number': 3590}, 'overall_precision': 0.8939285430094692, 'overall_recall': 0.9108156315874818, 'overall_f1': 0.9022930805991728, 'overall_accuracy': 0.9630472829721538}\n"
          ]
        },
        {
          "output_type": "execute_result",
          "data": {
            "text/plain": [
              "TrainOutput(global_step=5000, training_loss=0.24562934799194336, metrics={'train_runtime': 953.421, 'train_samples_per_second': 41.954, 'train_steps_per_second': 5.244, 'total_flos': 442068597920160.0, 'train_loss': 0.24562934799194336, 'epoch': 2.0})"
            ]
          },
          "metadata": {},
          "execution_count": 22
        }
      ]
    },
    {
      "cell_type": "markdown",
      "source": [
        "Посчитаем метрики на тестововм датасете."
      ],
      "metadata": {
        "id": "rOIxcgfmD6uq"
      }
    },
    {
      "cell_type": "code",
      "source": [
        "test_dataset = UDDataset(test_data, tokenizer, tags=train_dataset.tags_)\n",
        "predictions = trainer.predict(test_dataset)\n",
        "print(predictions.metrics)"
      ],
      "metadata": {
        "id": "ptu_RPXj3Tfu",
        "colab": {
          "base_uri": "https://localhost:8080/",
          "height": 72
        },
        "outputId": "53466a99-ec8a-4b1d-89a1-0141b9d3dea0"
      },
      "execution_count": null,
      "outputs": [
        {
          "output_type": "display_data",
          "data": {
            "text/plain": [
              "<IPython.core.display.HTML object>"
            ],
            "text/html": []
          },
          "metadata": {}
        },
        {
          "output_type": "stream",
          "name": "stdout",
          "text": [
            "{'LOC': {'precision': 0.8916362072672543, 'recall': 0.9094298245614035, 'f1': 0.9004451199652589, 'number': 4560}, 'ORG': {'precision': 0.8382388713208465, 'recall': 0.8458517427589592, 'f1': 0.842028100183262, 'number': 4074}, 'PER': {'precision': 0.9406896551724138, 'recall': 0.9624611910810048, 'f1': 0.9514508928571428, 'number': 3543}, 'overall_precision': 0.8882699604423993, 'overall_recall': 0.9035887328570256, 'overall_f1': 0.895863865819899, 'overall_accuracy': 0.961746717540119}\n",
            "{'test_loss': 0.17282509803771973, 'test_LOC_f1': 0.9004451199652589, 'test_ORG_f1': 0.842028100183262, 'test_PER_f1': 0.9514508928571428, 'test_Precision': 0.8882699604423993, 'test_Recall': 0.9035887328570256, 'test_F1': 0.895863865819899, 'test_Accuracy': 0.961746717540119, 'test_runtime': 32.1142, 'test_samples_per_second': 311.389, 'test_steps_per_second': 38.924}\n"
          ]
        }
      ]
    },
    {
      "cell_type": "markdown",
      "source": [
        "Метрики высокие: Accuracy - 0.96, F1-мера - 0.89. Посмотрим, как модель будет справляться с новыми примерами."
      ],
      "metadata": {
        "id": "yaQjQow0zA9D"
      }
    },
    {
      "cell_type": "markdown",
      "source": [
        "#Проверка на новых примерах и выводы"
      ],
      "metadata": {
        "id": "DCibIbRBzSYv"
      }
    },
    {
      "cell_type": "code",
      "source": [
        "import scipy\n",
        "\n",
        "def predict_with_trainer(trainer, dataset, classes):\n",
        "    predictions = trainer.predict(dataset)\n",
        "    answer = []\n",
        "    for elem, curr_predictions in zip(dataset, predictions.predictions):\n",
        "        mask = elem[\"mask\"]\n",
        "        probs = scipy.special.softmax(curr_predictions, axis=-1)[:len(mask)]\n",
        "        best_indexes = np.argmax(probs, axis=-1)[elem[\"mask\"]]\n",
        "        best_labels = np.take(classes, best_indexes)\n",
        "        best_probs = np.max(probs, axis=-1)[elem[\"mask\"]]\n",
        "        curr_answer = {\"labels\": best_labels, \"probs\": best_probs}\n",
        "        answer.append(curr_answer)\n",
        "    return answer"
      ],
      "metadata": {
        "id": "jXoyTnKI35Ne"
      },
      "execution_count": null,
      "outputs": []
    },
    {
      "cell_type": "code",
      "source": [
        "#1\n",
        "data_sample = {\n",
        "    \"words\": \"В Пушкине много всего интересного .\".split()\n",
        "}\n",
        "test_dataset = UDDataset([data_sample], tokenizer, tags=train_dataset.tags_)\n",
        "predictions = predict_with_trainer(trainer, test_dataset, classes=train_dataset.tags_)\n",
        "for word, label, prob in zip(data_sample[\"words\"], predictions[0][\"labels\"], predictions[0][\"probs\"]):\n",
        "    print(word, label, f\"{100*prob:.2f}\")"
      ],
      "metadata": {
        "colab": {
          "base_uri": "https://localhost:8080/",
          "height": 121
        },
        "id": "cd6cUVZTxnkd",
        "outputId": "a3391619-9f81-4e1d-d986-9c1ef5b70283"
      },
      "execution_count": null,
      "outputs": [
        {
          "output_type": "display_data",
          "data": {
            "text/plain": [
              "<IPython.core.display.HTML object>"
            ],
            "text/html": []
          },
          "metadata": {}
        },
        {
          "output_type": "stream",
          "name": "stdout",
          "text": [
            "В O 99.75\n",
            "Пушкине B-LOC 99.78\n",
            "много O 99.81\n",
            "всего O 99.70\n",
            "интересного O 99.76\n",
            ". O 99.88\n"
          ]
        }
      ]
    },
    {
      "cell_type": "markdown",
      "source": [
        "Пушкин уверенно распознался как локация - хороший результат."
      ],
      "metadata": {
        "id": "ezXOhlHXza6I"
      }
    },
    {
      "cell_type": "code",
      "source": [
        "#2\n",
        "data_sample = {\n",
        "    \"words\": \"Река Лена одна из самых протяженных .\".split()\n",
        "}\n",
        "test_dataset = UDDataset([data_sample], tokenizer, tags=train_dataset.tags_)\n",
        "predictions = predict_with_trainer(trainer, test_dataset, classes=train_dataset.tags_)\n",
        "for word, label, prob in zip(data_sample[\"words\"], predictions[0][\"labels\"], predictions[0][\"probs\"]):\n",
        "    print(word, label, f\"{100*prob:.2f}\")"
      ],
      "metadata": {
        "colab": {
          "base_uri": "https://localhost:8080/",
          "height": 138
        },
        "id": "LC5Y2sbxyHre",
        "outputId": "0f6befe6-ad51-478a-a8e7-f9b65c66c13f"
      },
      "execution_count": null,
      "outputs": [
        {
          "output_type": "display_data",
          "data": {
            "text/plain": [
              "<IPython.core.display.HTML object>"
            ],
            "text/html": []
          },
          "metadata": {}
        },
        {
          "output_type": "stream",
          "name": "stdout",
          "text": [
            "Река O 89.92\n",
            "Лена B-LOC 77.08\n",
            "одна O 99.87\n",
            "из O 99.88\n",
            "самых O 99.87\n",
            "протяженных O 99.81\n",
            ". O 99.90\n"
          ]
        }
      ]
    },
    {
      "cell_type": "markdown",
      "source": [
        "Лена распознана как локация тоже с достаточно большой вероятностью."
      ],
      "metadata": {
        "id": "XTGIPDWx0f1y"
      }
    },
    {
      "cell_type": "code",
      "source": [
        "#3\n",
        "data_sample = {\n",
        "    \"words\": \"Праздник Восьмое марта появился в двадцатом веке .\".split()\n",
        "}\n",
        "test_dataset = UDDataset([data_sample], tokenizer, tags=train_dataset.tags_)\n",
        "predictions = predict_with_trainer(trainer, test_dataset, classes=train_dataset.tags_)\n",
        "for word, label, prob in zip(data_sample[\"words\"], predictions[0][\"labels\"], predictions[0][\"probs\"]):\n",
        "    print(word, label, f\"{100*prob:.2f}\")"
      ],
      "metadata": {
        "colab": {
          "base_uri": "https://localhost:8080/",
          "height": 156
        },
        "id": "YeDAAqBExo-w",
        "outputId": "a7bc4c33-ca0c-41bf-f23a-68c55a48afb4"
      },
      "execution_count": null,
      "outputs": [
        {
          "output_type": "display_data",
          "data": {
            "text/plain": [
              "<IPython.core.display.HTML object>"
            ],
            "text/html": []
          },
          "metadata": {}
        },
        {
          "output_type": "stream",
          "name": "stdout",
          "text": [
            "Праздник O 81.96\n",
            "Восьмое B-ORG 57.21\n",
            "марта I-ORG 86.45\n",
            "появился O 99.93\n",
            "в O 99.90\n",
            "двадцатом B-LOC 47.44\n",
            "веке I-ORG 70.99\n",
            ". O 99.94\n"
          ]
        }
      ]
    },
    {
      "cell_type": "markdown",
      "source": [
        "Тут уже начались проблемы: март и век распознаны как ORG с достаточно большой вероятностью. Стоит однако отметить, что несмотря на то, что модель неверно определила Восьмое как ORG и двадцатом как LOC, вероятности у этих меток невысокие."
      ],
      "metadata": {
        "id": "wgAKI-s8zq5Y"
      }
    },
    {
      "cell_type": "code",
      "source": [
        "#4\n",
        "data_sample = {\n",
        "    \"words\": \"Гостиница 'Украина' одна из самых дорогих не только в России, но и в Европе.\".split()\n",
        "}\n",
        "test_dataset = UDDataset([data_sample], tokenizer, tags=train_dataset.tags_)\n",
        "predictions = predict_with_trainer(trainer, test_dataset, classes=train_dataset.tags_)\n",
        "for word, label, prob in zip(data_sample[\"words\"], predictions[0][\"labels\"], predictions[0][\"probs\"]):\n",
        "    print(word, label, f\"{100*prob:.2f}\")"
      ],
      "metadata": {
        "colab": {
          "base_uri": "https://localhost:8080/",
          "height": 260
        },
        "id": "iGNVTYpuyaew",
        "outputId": "7ba3f52a-d11b-4b92-dd1a-88ff540ac702"
      },
      "execution_count": null,
      "outputs": [
        {
          "output_type": "display_data",
          "data": {
            "text/plain": [
              "<IPython.core.display.HTML object>"
            ],
            "text/html": []
          },
          "metadata": {}
        },
        {
          "output_type": "stream",
          "name": "stdout",
          "text": [
            "Гостиница B-ORG 85.58\n",
            "'Украина' I-ORG 70.57\n",
            "одна O 99.94\n",
            "из O 99.94\n",
            "самых O 99.93\n",
            "дорогих O 99.91\n",
            "не O 99.93\n",
            "только O 99.91\n",
            "в O 99.92\n",
            "России, B-LOC 99.74\n",
            "но O 99.94\n",
            "и O 99.92\n",
            "в O 99.92\n",
            "Европе. B-LOC 99.60\n"
          ]
        }
      ]
    },
    {
      "cell_type": "markdown",
      "source": [
        "Гостиница и Украина распознались как организация с достаточно большой вероятностью - хорший результат."
      ],
      "metadata": {
        "id": "XUmsDipS1iUk"
      }
    },
    {
      "cell_type": "code",
      "source": [
        "#5\n",
        "data_sample = {\n",
        "    \"words\": \"31 июля 2017 года власти Лос-Анджелеса и руководство МОК заявили, что в 2024 году летние Олимпийские игры пройдут в Париже .\".split()\n",
        "}\n",
        "test_dataset = UDDataset([data_sample], tokenizer, tags=train_dataset.tags_)\n",
        "predictions = predict_with_trainer(trainer, test_dataset, classes=train_dataset.tags_)\n",
        "for word, label, prob in zip(data_sample[\"words\"], predictions[0][\"labels\"], predictions[0][\"probs\"]):\n",
        "    print(word, label, f\"{100*prob:.2f}\")"
      ],
      "metadata": {
        "colab": {
          "base_uri": "https://localhost:8080/",
          "height": 381
        },
        "id": "p59gJXO82WY5",
        "outputId": "268a7ef8-3445-4341-ae1c-58af9644a33c"
      },
      "execution_count": null,
      "outputs": [
        {
          "output_type": "display_data",
          "data": {
            "text/plain": [
              "<IPython.core.display.HTML object>"
            ],
            "text/html": []
          },
          "metadata": {}
        },
        {
          "output_type": "stream",
          "name": "stdout",
          "text": [
            "31 O 96.63\n",
            "июля O 93.54\n",
            "2017 O 92.49\n",
            "года O 99.81\n",
            "власти O 99.84\n",
            "Лос-Анджелеса B-LOC 99.51\n",
            "и O 99.95\n",
            "руководство O 99.85\n",
            "МОК B-ORG 96.31\n",
            "заявили, O 99.94\n",
            "что O 99.94\n",
            "в O 99.91\n",
            "2024 O 78.70\n",
            "году O 88.28\n",
            "летние B-ORG 84.02\n",
            "Олимпийские I-ORG 92.16\n",
            "игры I-ORG 93.57\n",
            "пройдут O 99.62\n",
            "в O 99.93\n",
            "Париже B-LOC 99.58\n",
            ". O 99.95\n"
          ]
        }
      ]
    },
    {
      "cell_type": "markdown",
      "source": [
        "Итак, летние Олимпийские игры были, сюдя по всему, определены как единая группа и распознаны как организация. Вероятность достаточно большая, хотя более точной была бы метка O."
      ],
      "metadata": {
        "id": "CslUWdqb9Awv"
      }
    },
    {
      "cell_type": "code",
      "source": [
        "#6\n",
        "data_sample = {\n",
        "    \"words\": \"Илон Маск является CEO Теслы и SpaceX .\".split()\n",
        "}\n",
        "test_dataset = UDDataset([data_sample], tokenizer, tags=train_dataset.tags_)\n",
        "predictions = predict_with_trainer(trainer, test_dataset, classes=train_dataset.tags_)\n",
        "for word, label, prob in zip(data_sample[\"words\"], predictions[0][\"labels\"], predictions[0][\"probs\"]):\n",
        "    print(word, label, f\"{100*prob:.2f}\")"
      ],
      "metadata": {
        "colab": {
          "base_uri": "https://localhost:8080/",
          "height": 156
        },
        "id": "BN4DqJqW3dXe",
        "outputId": "aadbf226-ccdd-4fa8-8b67-f82291122a2c"
      },
      "execution_count": null,
      "outputs": [
        {
          "output_type": "display_data",
          "data": {
            "text/plain": [
              "<IPython.core.display.HTML object>"
            ],
            "text/html": []
          },
          "metadata": {}
        },
        {
          "output_type": "stream",
          "name": "stdout",
          "text": [
            "Илон B-PER 99.58\n",
            "Маск I-PER 99.57\n",
            "является O 99.96\n",
            "CEO O 99.93\n",
            "Теслы B-ORG 93.40\n",
            "и O 99.95\n",
            "SpaceX B-ORG 99.64\n",
            ". O 99.96\n"
          ]
        }
      ]
    },
    {
      "cell_type": "markdown",
      "source": [
        "В этом примере проблем нет. Даже CEO дана метка O с большой вероятностью, хотя модель могла бы приписать PER или ORG."
      ],
      "metadata": {
        "id": "a4GSc0iu9k4U"
      }
    },
    {
      "cell_type": "code",
      "source": [
        "#7\n",
        "data_sample = {\n",
        "    \"words\": \"На протяжении многих веков планета Венера вдохновляла ученых .\".split()\n",
        "}\n",
        "test_dataset = UDDataset([data_sample], tokenizer, tags=train_dataset.tags_)\n",
        "predictions = predict_with_trainer(trainer, test_dataset, classes=train_dataset.tags_)\n",
        "for word, label, prob in zip(data_sample[\"words\"], predictions[0][\"labels\"], predictions[0][\"probs\"]):\n",
        "    print(word, label, f\"{100*prob:.2f}\")"
      ],
      "metadata": {
        "colab": {
          "base_uri": "https://localhost:8080/",
          "height": 173
        },
        "id": "4ITXJ3_m33pF",
        "outputId": "ba5de57e-b32e-4166-86f7-a6dce3aecd08"
      },
      "execution_count": null,
      "outputs": [
        {
          "output_type": "display_data",
          "data": {
            "text/plain": [
              "<IPython.core.display.HTML object>"
            ],
            "text/html": []
          },
          "metadata": {}
        },
        {
          "output_type": "stream",
          "name": "stdout",
          "text": [
            "На O 99.95\n",
            "протяжении O 99.94\n",
            "многих O 99.93\n",
            "веков O 99.89\n",
            "планета B-LOC 67.36\n",
            "Венера I-LOC 76.85\n",
            "вдохновляла O 99.94\n",
            "ученых O 99.74\n",
            ". O 99.96\n"
          ]
        }
      ]
    },
    {
      "cell_type": "markdown",
      "source": [
        "Планет Венера выделена как группа, и ей приписана метка LOC. Все хорошо."
      ],
      "metadata": {
        "id": "2FmfJrpI-G4Y"
      }
    },
    {
      "cell_type": "code",
      "source": [
        "#8\n",
        "data_sample = {\n",
        "    \"words\": \"4 июля в США празднуется День независмости - день, когда была принята Декларация независимости от Королевства Великобритании. \".split()\n",
        "}\n",
        "test_dataset = UDDataset([data_sample], tokenizer, tags=train_dataset.tags_)\n",
        "predictions = predict_with_trainer(trainer, test_dataset, classes=train_dataset.tags_)\n",
        "for word, label, prob in zip(data_sample[\"words\"], predictions[0][\"labels\"], predictions[0][\"probs\"]):\n",
        "    print(word, label, f\"{100*prob:.2f}\")"
      ],
      "metadata": {
        "colab": {
          "base_uri": "https://localhost:8080/",
          "height": 312
        },
        "id": "nFUZ0XYs47sw",
        "outputId": "7153112b-0009-4709-ff71-de28220d3fa9"
      },
      "execution_count": null,
      "outputs": [
        {
          "output_type": "display_data",
          "data": {
            "text/plain": [
              "<IPython.core.display.HTML object>"
            ],
            "text/html": []
          },
          "metadata": {}
        },
        {
          "output_type": "stream",
          "name": "stdout",
          "text": [
            "4 B-LOC 71.47\n",
            "июля I-LOC 49.85\n",
            "в O 99.91\n",
            "США B-LOC 99.51\n",
            "празднуется O 99.92\n",
            "День O 68.33\n",
            "независмости O 97.56\n",
            "- O 99.89\n",
            "день, O 99.88\n",
            "когда O 99.93\n",
            "была O 99.92\n",
            "принята O 99.87\n",
            "Декларация B-ORG 98.16\n",
            "независимости I-ORG 95.32\n",
            "от I-ORG 87.71\n",
            "Королевства I-ORG 86.10\n",
            "Великобритании. I-ORG 90.72\n"
          ]
        }
      ]
    },
    {
      "cell_type": "markdown",
      "source": [
        "Тут уже есть проблемы. Во-первых, дата определена как локация, Декларация независимости - как организация, причем с большой вероятностью. И, видимо, \"от Королевства Великобритании\" распознано как единая группа, потому что каждому слову дана метка ORG тоже с большой вероятностью. Однако, модель справилась с Днем независимости и определила его как O."
      ],
      "metadata": {
        "id": "98447ZEe-Wa_"
      }
    },
    {
      "cell_type": "code",
      "source": [
        "#9\n",
        "data_sample = {\n",
        "    \"words\": \"Считается, что 'Евгений Онегин' по праву совершил революцию в русской литературе .\".split()\n",
        "}\n",
        "test_dataset = UDDataset([data_sample], tokenizer, tags=train_dataset.tags_)\n",
        "predictions = predict_with_trainer(trainer, test_dataset, classes=train_dataset.tags_)\n",
        "for word, label, prob in zip(data_sample[\"words\"], predictions[0][\"labels\"], predictions[0][\"probs\"]):\n",
        "    print(word, label, f\"{100*prob:.2f}\")"
      ],
      "metadata": {
        "colab": {
          "base_uri": "https://localhost:8080/",
          "height": 225
        },
        "id": "iL1vTycU5dII",
        "outputId": "bbb57a52-2f70-461c-8a78-ff6169220a31"
      },
      "execution_count": null,
      "outputs": [
        {
          "output_type": "display_data",
          "data": {
            "text/plain": [
              "<IPython.core.display.HTML object>"
            ],
            "text/html": []
          },
          "metadata": {}
        },
        {
          "output_type": "stream",
          "name": "stdout",
          "text": [
            "Считается, O 99.92\n",
            "что O 99.95\n",
            "'Евгений O 99.69\n",
            "Онегин' I-PER 92.91\n",
            "по O 99.95\n",
            "праву O 99.94\n",
            "совершил O 99.94\n",
            "революцию O 99.87\n",
            "в O 99.89\n",
            "русской B-LOC 42.96\n",
            "литературе O 54.32\n",
            ". O 99.95\n"
          ]
        }
      ]
    },
    {
      "cell_type": "markdown",
      "source": [
        "Интерсеный результат. Евгений Онегин не был выделен как единая группа, и модель правильно отнесла Евгения к O, но не справилась с Онегиным. Также есть проблема с прилагательным \"русский\" - дана метка локации, хотя правильнее было бы дать метку O."
      ],
      "metadata": {
        "id": "EH9r1a7b_x2p"
      }
    },
    {
      "cell_type": "code",
      "source": [
        "#10\n",
        "data_sample = {\n",
        "    \"words\": \"Комментатор объявил, что первый гол в ЧМ-2002 в Эквадоре был забит Белугой .\".split()\n",
        "}\n",
        "test_dataset = UDDataset([data_sample], tokenizer, tags=train_dataset.tags_)\n",
        "predictions = predict_with_trainer(trainer, test_dataset, classes=train_dataset.tags_)\n",
        "for word, label, prob in zip(data_sample[\"words\"], predictions[0][\"labels\"], predictions[0][\"probs\"]):\n",
        "    print(word, label, f\"{100*prob:.2f}\")"
      ],
      "metadata": {
        "colab": {
          "base_uri": "https://localhost:8080/",
          "height": 243
        },
        "id": "Njcpe3G97CpM",
        "outputId": "5562e1f1-9dff-46dd-acec-d2672b859887"
      },
      "execution_count": null,
      "outputs": [
        {
          "output_type": "display_data",
          "data": {
            "text/plain": [
              "<IPython.core.display.HTML object>"
            ],
            "text/html": []
          },
          "metadata": {}
        },
        {
          "output_type": "stream",
          "name": "stdout",
          "text": [
            "Комментатор O 99.85\n",
            "объявил, O 99.95\n",
            "что O 99.96\n",
            "первый O 99.93\n",
            "гол O 99.92\n",
            "в O 99.89\n",
            "ЧМ-2002 B-ORG 92.60\n",
            "в O 99.79\n",
            "Эквадоре B-LOC 74.25\n",
            "был O 99.95\n",
            "забит O 99.93\n",
            "Белугой B-PER 94.17\n",
            ". O 99.96\n"
          ]
        }
      ]
    },
    {
      "cell_type": "markdown",
      "source": [
        "Результат в целом хороший. Как и ожидалось, у ЧМ-2002 метка ORG, хотя в реальности у него скорее должна быть метка O, Белуге дана метка PER с высокой вероятностью."
      ],
      "metadata": {
        "id": "qYO3xMcaAcVL"
      }
    },
    {
      "cell_type": "code",
      "source": [
        "#11\n",
        "data_sample = {\n",
        "    \"words\": \"Исследователи полагают, что Серебряный век окончился с началом Гражданской войны или в год смерти Александра Блока, во всяком случае, это было позже распада ЛЕФа.\".split()\n",
        "}\n",
        "test_dataset = UDDataset([data_sample], tokenizer, tags=train_dataset.tags_)\n",
        "predictions = predict_with_trainer(trainer, test_dataset, classes=train_dataset.tags_)\n",
        "for word, label, prob in zip(data_sample[\"words\"], predictions[0][\"labels\"], predictions[0][\"probs\"]):\n",
        "    print(word, label, f\"{100*prob:.2f}\")\n",
        "\n"
      ],
      "metadata": {
        "colab": {
          "base_uri": "https://localhost:8080/",
          "height": 433
        },
        "id": "G-NZzq2-8l6M",
        "outputId": "90520490-e9a5-4e37-a5ef-3c3ec2c2450d"
      },
      "execution_count": null,
      "outputs": [
        {
          "output_type": "display_data",
          "data": {
            "text/plain": [
              "<IPython.core.display.HTML object>"
            ],
            "text/html": []
          },
          "metadata": {}
        },
        {
          "output_type": "stream",
          "name": "stdout",
          "text": [
            "Исследователи O 99.94\n",
            "полагают, O 99.94\n",
            "что O 99.95\n",
            "Серебряный O 51.96\n",
            "век O 70.18\n",
            "окончился O 99.93\n",
            "с O 99.94\n",
            "началом O 99.88\n",
            "Гражданской B-ORG 99.12\n",
            "войны I-ORG 99.06\n",
            "или O 99.94\n",
            "в O 99.94\n",
            "год O 99.92\n",
            "смерти O 99.91\n",
            "Александра B-PER 99.58\n",
            "Блока, I-PER 98.84\n",
            "во O 99.94\n",
            "всяком O 99.93\n",
            "случае, O 99.93\n",
            "это O 99.93\n",
            "было O 99.94\n",
            "позже O 99.93\n",
            "распада O 99.91\n",
            "ЛЕФа. B-ORG 98.36\n"
          ]
        }
      ]
    },
    {
      "cell_type": "markdown",
      "source": [
        "И здесь результат в целом хороший. Модель справилась с \"Серебряным веком\" и верно отнесла его к O. Хорошо, что \"Гражданская война\" выделена как группа, но метка ей приписана скорее неправильная, причем с высокой вероятностью. С Алекснадром Блоком и ЛЕФом проблем не возникло."
      ],
      "metadata": {
        "id": "cHSIe5M5BPsS"
      }
    },
    {
      "cell_type": "markdown",
      "source": [
        "**Вывод**\n",
        "\n",
        "В целом, при тестрировании на новых примерах модель показала себя хорошо. Есть проблемы с выделением дат, также иногда вместо метки O приписывается метка ORG, и есть сложности с прилагательными, образованными от названий локаций, что ожидаемо. Но даже с вполне неоднозначными примерами модель справилась хорошо."
      ],
      "metadata": {
        "id": "ENTz5mcC3zit"
      }
    }
  ]
}